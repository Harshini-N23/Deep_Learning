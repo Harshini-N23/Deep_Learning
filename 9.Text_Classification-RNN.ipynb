{
  "nbformat": 4,
  "nbformat_minor": 0,
  "metadata": {
    "colab": {
      "provenance": []
    },
    "kernelspec": {
      "name": "python3",
      "display_name": "Python 3"
    },
    "language_info": {
      "name": "python"
    }
  },
  "cells": [
    {
      "cell_type": "markdown",
      "source": [
        "\n",
        "## Implementation of Simple RNN\n",
        "\n",
        "\n",
        "\n",
        "## Aim: To classify the news artciles into product news and stock news.\n",
        "\n",
        "### Dataset : https://www.kaggle.com/datasets/sulphatet/twitter-financial-news\n",
        "### News Classification using RNN\n",
        "### Labels:\n",
        "* Product News(0) and Stock Commentary(1)\n"
      ],
      "metadata": {
        "id": "O3TuDu5vHZ7X"
      }
    },
    {
      "cell_type": "markdown",
      "source": [
        "## Importing the libraries"
      ],
      "metadata": {
        "id": "8CGvMsP5uJ0G"
      }
    },
    {
      "cell_type": "code",
      "execution_count": null,
      "metadata": {
        "id": "4FLIDPK3HTON"
      },
      "outputs": [],
      "source": [
        "import pandas as pd\n",
        "import tensorflow as tf\n",
        "import nltk\n",
        "import re\n",
        "import numpy as np"
      ]
    },
    {
      "cell_type": "code",
      "source": [
        "nltk.download(\"stopwords\")"
      ],
      "metadata": {
        "colab": {
          "base_uri": "https://localhost:8080/"
        },
        "id": "mz41TmncJ9XU",
        "outputId": "9ffe98f0-9e31-4e50-f4bb-81fa227fa8bb"
      },
      "execution_count": null,
      "outputs": [
        {
          "output_type": "stream",
          "name": "stderr",
          "text": [
            "[nltk_data] Downloading package stopwords to /root/nltk_data...\n",
            "[nltk_data]   Package stopwords is already up-to-date!\n"
          ]
        },
        {
          "output_type": "execute_result",
          "data": {
            "text/plain": [
              "True"
            ]
          },
          "metadata": {},
          "execution_count": 9
        }
      ]
    },
    {
      "cell_type": "code",
      "source": [
        "from sklearn.model_selection import train_test_split\n",
        "from sklearn.metrics import confusion_matrix, classification_report, accuracy_score"
      ],
      "metadata": {
        "id": "MnG47zunM4r7"
      },
      "execution_count": null,
      "outputs": []
    },
    {
      "cell_type": "code",
      "source": [
        "from nltk.corpus import stopwords\n",
        "from nltk.stem.porter import PorterStemmer"
      ],
      "metadata": {
        "id": "EoFt3JmsJ38J"
      },
      "execution_count": null,
      "outputs": []
    },
    {
      "cell_type": "code",
      "source": [
        "from tensorflow.keras.layers import Embedding\n",
        "from tensorflow.keras.preprocessing.sequence import pad_sequences\n",
        "from tensorflow.keras.models import Sequential\n",
        "from tensorflow.keras.preprocessing.text import one_hot\n",
        "from tensorflow.keras.layers import SimpleRNN, Dense, Dropout"
      ],
      "metadata": {
        "id": "8QvzaaZeJDHg"
      },
      "execution_count": null,
      "outputs": []
    },
    {
      "cell_type": "code",
      "source": [
        "from google.colab import drive\n",
        "drive.mount('/content/drive')"
      ],
      "metadata": {
        "colab": {
          "base_uri": "https://localhost:8080/"
        },
        "id": "OfeP-Ka10SOB",
        "outputId": "f84d2922-b4ee-4c04-d1c1-bf93dc61b110"
      },
      "execution_count": null,
      "outputs": [
        {
          "output_type": "stream",
          "name": "stdout",
          "text": [
            "Drive already mounted at /content/drive; to attempt to forcibly remount, call drive.mount(\"/content/drive\", force_remount=True).\n"
          ]
        }
      ]
    },
    {
      "cell_type": "markdown",
      "source": [
        "## Loading the data"
      ],
      "metadata": {
        "id": "5B2p_xUiuNWe"
      }
    },
    {
      "cell_type": "code",
      "source": [
        "data =pd.read_csv(\"/content/drive/MyDrive/Colab Notebooks/DEEP LEARNING/classification_train_data.csv\")\n",
        "data.head()"
      ],
      "metadata": {
        "colab": {
          "base_uri": "https://localhost:8080/",
          "height": 206
        },
        "id": "5s9FlDYgH5xI",
        "outputId": "8030d005-6089-4e46-a149-7843f44f7b17"
      },
      "execution_count": null,
      "outputs": [
        {
          "output_type": "execute_result",
          "data": {
            "text/plain": [
              "                                                text  label\n",
              "0  $HOUR flagging here below the squeeze level to...      1\n",
              "1  $SPY closed just above 2 mo channel &amp; 10d ...      1\n",
              "2                             $VLCN going green.....      1\n",
              "3  $QQQ - QQQ: It's Make It Or Break It For The S...      1\n",
              "4  Nike college apparel will have 'faster speed t...      0"
            ],
            "text/html": [
              "\n",
              "  <div id=\"df-5ec5a957-8d83-45ee-8941-3faed45f7036\">\n",
              "    <div class=\"colab-df-container\">\n",
              "      <div>\n",
              "<style scoped>\n",
              "    .dataframe tbody tr th:only-of-type {\n",
              "        vertical-align: middle;\n",
              "    }\n",
              "\n",
              "    .dataframe tbody tr th {\n",
              "        vertical-align: top;\n",
              "    }\n",
              "\n",
              "    .dataframe thead th {\n",
              "        text-align: right;\n",
              "    }\n",
              "</style>\n",
              "<table border=\"1\" class=\"dataframe\">\n",
              "  <thead>\n",
              "    <tr style=\"text-align: right;\">\n",
              "      <th></th>\n",
              "      <th>text</th>\n",
              "      <th>label</th>\n",
              "    </tr>\n",
              "  </thead>\n",
              "  <tbody>\n",
              "    <tr>\n",
              "      <th>0</th>\n",
              "      <td>$HOUR flagging here below the squeeze level to...</td>\n",
              "      <td>1</td>\n",
              "    </tr>\n",
              "    <tr>\n",
              "      <th>1</th>\n",
              "      <td>$SPY closed just above 2 mo channel &amp;amp; 10d ...</td>\n",
              "      <td>1</td>\n",
              "    </tr>\n",
              "    <tr>\n",
              "      <th>2</th>\n",
              "      <td>$VLCN going green.....</td>\n",
              "      <td>1</td>\n",
              "    </tr>\n",
              "    <tr>\n",
              "      <th>3</th>\n",
              "      <td>$QQQ - QQQ: It's Make It Or Break It For The S...</td>\n",
              "      <td>1</td>\n",
              "    </tr>\n",
              "    <tr>\n",
              "      <th>4</th>\n",
              "      <td>Nike college apparel will have 'faster speed t...</td>\n",
              "      <td>0</td>\n",
              "    </tr>\n",
              "  </tbody>\n",
              "</table>\n",
              "</div>\n",
              "      <button class=\"colab-df-convert\" onclick=\"convertToInteractive('df-5ec5a957-8d83-45ee-8941-3faed45f7036')\"\n",
              "              title=\"Convert this dataframe to an interactive table.\"\n",
              "              style=\"display:none;\">\n",
              "        \n",
              "  <svg xmlns=\"http://www.w3.org/2000/svg\" height=\"24px\"viewBox=\"0 0 24 24\"\n",
              "       width=\"24px\">\n",
              "    <path d=\"M0 0h24v24H0V0z\" fill=\"none\"/>\n",
              "    <path d=\"M18.56 5.44l.94 2.06.94-2.06 2.06-.94-2.06-.94-.94-2.06-.94 2.06-2.06.94zm-11 1L8.5 8.5l.94-2.06 2.06-.94-2.06-.94L8.5 2.5l-.94 2.06-2.06.94zm10 10l.94 2.06.94-2.06 2.06-.94-2.06-.94-.94-2.06-.94 2.06-2.06.94z\"/><path d=\"M17.41 7.96l-1.37-1.37c-.4-.4-.92-.59-1.43-.59-.52 0-1.04.2-1.43.59L10.3 9.45l-7.72 7.72c-.78.78-.78 2.05 0 2.83L4 21.41c.39.39.9.59 1.41.59.51 0 1.02-.2 1.41-.59l7.78-7.78 2.81-2.81c.8-.78.8-2.07 0-2.86zM5.41 20L4 18.59l7.72-7.72 1.47 1.35L5.41 20z\"/>\n",
              "  </svg>\n",
              "      </button>\n",
              "      \n",
              "  <style>\n",
              "    .colab-df-container {\n",
              "      display:flex;\n",
              "      flex-wrap:wrap;\n",
              "      gap: 12px;\n",
              "    }\n",
              "\n",
              "    .colab-df-convert {\n",
              "      background-color: #E8F0FE;\n",
              "      border: none;\n",
              "      border-radius: 50%;\n",
              "      cursor: pointer;\n",
              "      display: none;\n",
              "      fill: #1967D2;\n",
              "      height: 32px;\n",
              "      padding: 0 0 0 0;\n",
              "      width: 32px;\n",
              "    }\n",
              "\n",
              "    .colab-df-convert:hover {\n",
              "      background-color: #E2EBFA;\n",
              "      box-shadow: 0px 1px 2px rgba(60, 64, 67, 0.3), 0px 1px 3px 1px rgba(60, 64, 67, 0.15);\n",
              "      fill: #174EA6;\n",
              "    }\n",
              "\n",
              "    [theme=dark] .colab-df-convert {\n",
              "      background-color: #3B4455;\n",
              "      fill: #D2E3FC;\n",
              "    }\n",
              "\n",
              "    [theme=dark] .colab-df-convert:hover {\n",
              "      background-color: #434B5C;\n",
              "      box-shadow: 0px 1px 3px 1px rgba(0, 0, 0, 0.15);\n",
              "      filter: drop-shadow(0px 1px 2px rgba(0, 0, 0, 0.3));\n",
              "      fill: #FFFFFF;\n",
              "    }\n",
              "  </style>\n",
              "\n",
              "      <script>\n",
              "        const buttonEl =\n",
              "          document.querySelector('#df-5ec5a957-8d83-45ee-8941-3faed45f7036 button.colab-df-convert');\n",
              "        buttonEl.style.display =\n",
              "          google.colab.kernel.accessAllowed ? 'block' : 'none';\n",
              "\n",
              "        async function convertToInteractive(key) {\n",
              "          const element = document.querySelector('#df-5ec5a957-8d83-45ee-8941-3faed45f7036');\n",
              "          const dataTable =\n",
              "            await google.colab.kernel.invokeFunction('convertToInteractive',\n",
              "                                                     [key], {});\n",
              "          if (!dataTable) return;\n",
              "\n",
              "          const docLinkHtml = 'Like what you see? Visit the ' +\n",
              "            '<a target=\"_blank\" href=https://colab.research.google.com/notebooks/data_table.ipynb>data table notebook</a>'\n",
              "            + ' to learn more about interactive tables.';\n",
              "          element.innerHTML = '';\n",
              "          dataTable['output_type'] = 'display_data';\n",
              "          await google.colab.output.renderOutput(dataTable, element);\n",
              "          const docLink = document.createElement('div');\n",
              "          docLink.innerHTML = docLinkHtml;\n",
              "          element.appendChild(docLink);\n",
              "        }\n",
              "      </script>\n",
              "    </div>\n",
              "  </div>\n",
              "  "
            ]
          },
          "metadata": {},
          "execution_count": 14
        }
      ]
    },
    {
      "cell_type": "code",
      "source": [
        "data.info()"
      ],
      "metadata": {
        "colab": {
          "base_uri": "https://localhost:8080/"
        },
        "id": "1SxFT8FeIqe4",
        "outputId": "5cebab2d-70f8-41a9-bf49-5515b6b6955d"
      },
      "execution_count": null,
      "outputs": [
        {
          "output_type": "stream",
          "name": "stdout",
          "text": [
            "<class 'pandas.core.frame.DataFrame'>\n",
            "RangeIndex: 5663 entries, 0 to 5662\n",
            "Data columns (total 2 columns):\n",
            " #   Column  Non-Null Count  Dtype \n",
            "---  ------  --------------  ----- \n",
            " 0   text    5663 non-null   object\n",
            " 1   label   5663 non-null   int64 \n",
            "dtypes: int64(1), object(1)\n",
            "memory usage: 88.6+ KB\n"
          ]
        }
      ]
    },
    {
      "cell_type": "code",
      "source": [
        "data.isnull().sum()"
      ],
      "metadata": {
        "colab": {
          "base_uri": "https://localhost:8080/"
        },
        "id": "2rgMheQQIndW",
        "outputId": "bd44ee09-eb91-4a2c-9b6f-87d29cb06a63"
      },
      "execution_count": null,
      "outputs": [
        {
          "output_type": "execute_result",
          "data": {
            "text/plain": [
              "text     0\n",
              "label    0\n",
              "dtype: int64"
            ]
          },
          "metadata": {},
          "execution_count": 16
        }
      ]
    },
    {
      "cell_type": "markdown",
      "source": [
        "## Defining the X and Y features"
      ],
      "metadata": {
        "id": "V_Pk9FlPuPlJ"
      }
    },
    {
      "cell_type": "code",
      "source": [
        "X = data.drop(\"label\", axis =1)\n",
        "y = data[\"label\"]"
      ],
      "metadata": {
        "id": "LboMWqy1Iux_"
      },
      "execution_count": null,
      "outputs": []
    },
    {
      "cell_type": "code",
      "source": [
        "X.shape, y.shape"
      ],
      "metadata": {
        "colab": {
          "base_uri": "https://localhost:8080/"
        },
        "id": "2zTDjHPOI3Zj",
        "outputId": "0f04dd37-b766-4e94-9205-7dbd7aaaa889"
      },
      "execution_count": null,
      "outputs": [
        {
          "output_type": "execute_result",
          "data": {
            "text/plain": [
              "((5663, 1), (5663,))"
            ]
          },
          "metadata": {},
          "execution_count": 18
        }
      ]
    },
    {
      "cell_type": "markdown",
      "source": [
        "## Defining the vocabulary size"
      ],
      "metadata": {
        "id": "6xZ4U7fKuVQh"
      }
    },
    {
      "cell_type": "code",
      "source": [
        "vocab_size = 5000"
      ],
      "metadata": {
        "id": "pqxUrQ1SI952"
      },
      "execution_count": null,
      "outputs": []
    },
    {
      "cell_type": "code",
      "source": [
        "news = X.copy()"
      ],
      "metadata": {
        "id": "nzsm4_WPJpw-"
      },
      "execution_count": null,
      "outputs": []
    },
    {
      "cell_type": "markdown",
      "source": [
        "## Data Preprocessing"
      ],
      "metadata": {
        "id": "W-Tf2waNuYMQ"
      }
    },
    {
      "cell_type": "code",
      "source": [
        "corpus= []\n",
        "def data_preprocess(news):\n",
        "  ps = PorterStemmer()\n",
        "\n",
        "  for i in range(0, len(news)):\n",
        "    text = re.sub(\"[^a-zA-Z]\", \" \", news[\"text\"][i])\n",
        "    text = text.lower()\n",
        "    text= text.split()\n",
        "    text = [ps.stem(word) for word in text if not word in stopwords.words(\"english\")]\n",
        "    text = \" \".join(text)\n",
        "    corpus.append(text)\n",
        "data_preprocess(news)"
      ],
      "metadata": {
        "id": "-fw1_KK3JyZV"
      },
      "execution_count": null,
      "outputs": []
    },
    {
      "cell_type": "markdown",
      "source": [
        "## One-Hot Encoding"
      ],
      "metadata": {
        "id": "14Afdy14ualc"
      }
    },
    {
      "cell_type": "code",
      "source": [
        "one_hot_rep =[]\n",
        "def One_Hot(corpus):\n",
        "  for words in corpus:\n",
        "    onehot = one_hot(words, vocab_size)\n",
        "    one_hot_rep.append(onehot)\n",
        "  # one_hot_rep = [one_hot(words, vocab_size) for words in corpus]\n",
        "One_Hot(corpus)"
      ],
      "metadata": {
        "id": "Rew-ojT-K4vz"
      },
      "execution_count": null,
      "outputs": []
    },
    {
      "cell_type": "markdown",
      "source": [
        "## Generating the padded sequences"
      ],
      "metadata": {
        "id": "1IlVQn46udVR"
      }
    },
    {
      "cell_type": "code",
      "source": [
        "# The one hot encoded sequences are of unequal length so we do padding.\n",
        "sent_length = 20\n",
        "embedded_docs = pad_sequences(one_hot_rep, padding=\"pre\", maxlen =sent_length)\n",
        "embedded_docs[0]"
      ],
      "metadata": {
        "colab": {
          "base_uri": "https://localhost:8080/"
        },
        "id": "XwBqxdhQK_k-",
        "outputId": "f545970e-eded-43c4-f6cc-16a985951e4b"
      },
      "execution_count": null,
      "outputs": [
        {
          "output_type": "execute_result",
          "data": {
            "text/plain": [
              "array([   0,    0,    0,    0,    0, 1522,  365, 3872, 1797, 1748, 3314,\n",
              "       1471,  956, 2220, 3461, 1222, 4734, 4523, 3872, 2212], dtype=int32)"
            ]
          },
          "metadata": {},
          "execution_count": 23
        }
      ]
    },
    {
      "cell_type": "markdown",
      "source": [
        "## Model Building"
      ],
      "metadata": {
        "id": "SZQplIbOug8m"
      }
    },
    {
      "cell_type": "code",
      "source": [
        "embedding_vector_features = 40\n",
        "model =Sequential()\n",
        "model.add(Embedding(vocab_size,embedding_vector_features, input_length =sent_length ))\n",
        "model.add(SimpleRNN(100))\n",
        "model.add(Dense(1, activation=\"sigmoid\"))\n",
        "model.compile(loss = \"binary_crossentropy\", optimizer = \"adam\", metrics = [\"accuracy\"])\n",
        "model.summary()"
      ],
      "metadata": {
        "colab": {
          "base_uri": "https://localhost:8080/"
        },
        "id": "K_DxHSbKL0hs",
        "outputId": "84844dd4-8af5-4ed3-c256-8a7bd49673f1"
      },
      "execution_count": null,
      "outputs": [
        {
          "output_type": "stream",
          "name": "stdout",
          "text": [
            "Model: \"sequential\"\n",
            "_________________________________________________________________\n",
            " Layer (type)                Output Shape              Param #   \n",
            "=================================================================\n",
            " embedding (Embedding)       (None, 20, 40)            200000    \n",
            "                                                                 \n",
            " simple_rnn (SimpleRNN)      (None, 100)               14100     \n",
            "                                                                 \n",
            " dense (Dense)               (None, 1)                 101       \n",
            "                                                                 \n",
            "=================================================================\n",
            "Total params: 214,201\n",
            "Trainable params: 214,201\n",
            "Non-trainable params: 0\n",
            "_________________________________________________________________\n"
          ]
        }
      ]
    },
    {
      "cell_type": "code",
      "source": [
        "# Converting the padded sequences into an array\n",
        "X_final = np.array(embedded_docs)\n",
        "y_final = np.array(y)"
      ],
      "metadata": {
        "id": "NSfzcNeBMrGV"
      },
      "execution_count": null,
      "outputs": []
    },
    {
      "cell_type": "code",
      "source": [
        "X_final.shape, y_final.shape"
      ],
      "metadata": {
        "colab": {
          "base_uri": "https://localhost:8080/"
        },
        "id": "D68wpL-iNLti",
        "outputId": "8208a5a2-879f-4f3e-ff68-fc4f23bcea0c"
      },
      "execution_count": null,
      "outputs": [
        {
          "output_type": "execute_result",
          "data": {
            "text/plain": [
              "((5663, 20), (5663,))"
            ]
          },
          "metadata": {},
          "execution_count": 26
        }
      ]
    },
    {
      "cell_type": "code",
      "source": [
        "X_train,X_test, y_train,y_test = train_test_split(X_final, y_final, test_size=0.20, random_state=42)"
      ],
      "metadata": {
        "id": "5o-o8f53NO0B"
      },
      "execution_count": null,
      "outputs": []
    },
    {
      "cell_type": "code",
      "source": [
        "model.fit(X_train, y_train, validation_data = (X_test, y_test), epochs = 10, batch_size =50)"
      ],
      "metadata": {
        "colab": {
          "base_uri": "https://localhost:8080/"
        },
        "id": "JohkLStBNYgW",
        "outputId": "7c9a8b0c-d051-49f2-835b-b60f9b6b1201"
      },
      "execution_count": null,
      "outputs": [
        {
          "output_type": "stream",
          "name": "stdout",
          "text": [
            "Epoch 1/10\n",
            "91/91 [==============================] - 5s 26ms/step - loss: 0.3774 - accuracy: 0.8338 - val_loss: 0.1939 - val_accuracy: 0.9329\n",
            "Epoch 2/10\n",
            "91/91 [==============================] - 2s 24ms/step - loss: 0.1036 - accuracy: 0.9651 - val_loss: 0.1841 - val_accuracy: 0.9338\n",
            "Epoch 3/10\n",
            "91/91 [==============================] - 2s 19ms/step - loss: 0.0347 - accuracy: 0.9907 - val_loss: 0.1867 - val_accuracy: 0.9312\n",
            "Epoch 4/10\n",
            "91/91 [==============================] - 1s 16ms/step - loss: 0.0153 - accuracy: 0.9956 - val_loss: 0.3429 - val_accuracy: 0.9011\n",
            "Epoch 5/10\n",
            "91/91 [==============================] - 1s 16ms/step - loss: 0.0336 - accuracy: 0.9912 - val_loss: 0.2020 - val_accuracy: 0.9250\n",
            "Epoch 6/10\n",
            "91/91 [==============================] - 1s 15ms/step - loss: 0.0147 - accuracy: 0.9954 - val_loss: 0.2141 - val_accuracy: 0.9312\n",
            "Epoch 7/10\n",
            "91/91 [==============================] - 1s 16ms/step - loss: 0.0048 - accuracy: 0.9989 - val_loss: 0.1921 - val_accuracy: 0.9365\n",
            "Epoch 8/10\n",
            "91/91 [==============================] - 1s 16ms/step - loss: 0.0017 - accuracy: 0.9996 - val_loss: 0.2466 - val_accuracy: 0.9241\n",
            "Epoch 9/10\n",
            "91/91 [==============================] - 1s 15ms/step - loss: 0.0025 - accuracy: 0.9998 - val_loss: 0.2444 - val_accuracy: 0.9259\n",
            "Epoch 10/10\n",
            "91/91 [==============================] - 2s 21ms/step - loss: 9.0770e-04 - accuracy: 0.9996 - val_loss: 0.3621 - val_accuracy: 0.9117\n"
          ]
        },
        {
          "output_type": "execute_result",
          "data": {
            "text/plain": [
              "<keras.callbacks.History at 0x7f97949884f0>"
            ]
          },
          "metadata": {},
          "execution_count": 28
        }
      ]
    },
    {
      "cell_type": "markdown",
      "source": [
        "## Model Evaluation"
      ],
      "metadata": {
        "id": "D3mVK6gXuppH"
      }
    },
    {
      "cell_type": "code",
      "source": [
        "y_pred= model.predict(X_test)"
      ],
      "metadata": {
        "colab": {
          "base_uri": "https://localhost:8080/"
        },
        "id": "3wZMSfcbNl2Y",
        "outputId": "6b5f7cbe-4330-416f-ec3e-93dc3db80d7f"
      },
      "execution_count": null,
      "outputs": [
        {
          "output_type": "stream",
          "name": "stdout",
          "text": [
            "36/36 [==============================] - 0s 4ms/step\n"
          ]
        }
      ]
    },
    {
      "cell_type": "code",
      "source": [
        "loss, accuracy = model.evaluate(X_test, y_test)\n",
        "print(\"Loss: \", round(loss,2), \"Accuracy: \",\"%.2f\"%accuracy)"
      ],
      "metadata": {
        "colab": {
          "base_uri": "https://localhost:8080/"
        },
        "id": "OUFP5rT4Q4sE",
        "outputId": "681db1b1-2f2a-4560-b15c-6d66089150e7"
      },
      "execution_count": null,
      "outputs": [
        {
          "output_type": "stream",
          "name": "stdout",
          "text": [
            "36/36 [==============================] - 0s 4ms/step - loss: 0.3621 - accuracy: 0.9117\n",
            "Loss:  0.36 Accuracy:  0.91\n"
          ]
        }
      ]
    },
    {
      "cell_type": "markdown",
      "source": [
        "## Adding Dropout Layer"
      ],
      "metadata": {
        "id": "rnzS8wy9lr9Z"
      }
    },
    {
      "cell_type": "code",
      "source": [
        "model1 =Sequential()\n",
        "model1.add(Embedding(vocab_size,embedding_vector_features, input_length =sent_length ))\n",
        "model1.add(Dropout(0.3))\n",
        "model1.add(SimpleRNN(100))\n",
        "model1.add(Dropout(0.3))\n",
        "model1.add(Dense(1, activation=\"sigmoid\"))\n",
        "model1.compile(loss = \"binary_crossentropy\", optimizer = \"adam\", metrics = [\"accuracy\"])\n",
        "model1.fit(X_train, y_train, validation_data = (X_test, y_test), epochs = 10, batch_size =50)"
      ],
      "metadata": {
        "colab": {
          "base_uri": "https://localhost:8080/"
        },
        "id": "tVAKGikSO8_O",
        "outputId": "dbb9f45c-dc0a-4b13-896f-48f16498f63f"
      },
      "execution_count": null,
      "outputs": [
        {
          "output_type": "stream",
          "name": "stdout",
          "text": [
            "Epoch 1/10\n",
            "91/91 [==============================] - 4s 20ms/step - loss: 0.4506 - accuracy: 0.7938 - val_loss: 0.2283 - val_accuracy: 0.9294\n",
            "Epoch 2/10\n",
            "91/91 [==============================] - 2s 17ms/step - loss: 0.1609 - accuracy: 0.9444 - val_loss: 0.1632 - val_accuracy: 0.9373\n",
            "Epoch 3/10\n",
            "91/91 [==============================] - 2s 17ms/step - loss: 0.0761 - accuracy: 0.9757 - val_loss: 0.1616 - val_accuracy: 0.9365\n",
            "Epoch 4/10\n",
            "91/91 [==============================] - 2s 24ms/step - loss: 0.0279 - accuracy: 0.9929 - val_loss: 0.2123 - val_accuracy: 0.9329\n",
            "Epoch 5/10\n",
            "91/91 [==============================] - 2s 26ms/step - loss: 0.0221 - accuracy: 0.9940 - val_loss: 0.1847 - val_accuracy: 0.9409\n",
            "Epoch 6/10\n",
            "91/91 [==============================] - 2s 19ms/step - loss: 0.0128 - accuracy: 0.9978 - val_loss: 0.1665 - val_accuracy: 0.9488\n",
            "Epoch 7/10\n",
            "91/91 [==============================] - 2s 16ms/step - loss: 0.0177 - accuracy: 0.9940 - val_loss: 0.2097 - val_accuracy: 0.9338\n",
            "Epoch 8/10\n",
            "91/91 [==============================] - 2s 17ms/step - loss: 0.0048 - accuracy: 0.9993 - val_loss: 0.1907 - val_accuracy: 0.9400\n",
            "Epoch 9/10\n",
            "91/91 [==============================] - 2s 17ms/step - loss: 0.0069 - accuracy: 0.9982 - val_loss: 0.2051 - val_accuracy: 0.9347\n",
            "Epoch 10/10\n",
            "91/91 [==============================] - 2s 17ms/step - loss: 0.0026 - accuracy: 0.9993 - val_loss: 0.2257 - val_accuracy: 0.9303\n"
          ]
        },
        {
          "output_type": "execute_result",
          "data": {
            "text/plain": [
              "<keras.callbacks.History at 0x7f97901737f0>"
            ]
          },
          "metadata": {},
          "execution_count": 31
        }
      ]
    },
    {
      "cell_type": "code",
      "source": [
        "loss, accuracy = model1.evaluate(X_test, y_test)\n",
        "print(\"Loss: \", round(loss,2), \"Accuracy: \",\"%.2f\"%accuracy)"
      ],
      "metadata": {
        "colab": {
          "base_uri": "https://localhost:8080/"
        },
        "id": "RSwl8hSFQPiZ",
        "outputId": "1fbcbdfa-a016-4291-9b17-101af7dae41a"
      },
      "execution_count": null,
      "outputs": [
        {
          "output_type": "stream",
          "name": "stdout",
          "text": [
            "36/36 [==============================] - 0s 6ms/step - loss: 0.2257 - accuracy: 0.9303\n",
            "Loss:  0.23 Accuracy:  0.93\n"
          ]
        }
      ]
    },
    {
      "cell_type": "markdown",
      "source": [
        "## Model Testing"
      ],
      "metadata": {
        "id": "ZRvghv0kutKC"
      }
    },
    {
      "cell_type": "code",
      "source": [
        "test_data=pd.read_csv(\"/content/drive/MyDrive/Colab Notebooks/DEEP LEARNING/classification_test_data.csv\")\n",
        "test_data.head()"
      ],
      "metadata": {
        "colab": {
          "base_uri": "https://localhost:8080/",
          "height": 206
        },
        "id": "SidKdyGORXqy",
        "outputId": "7ea085e9-9046-4df3-89f4-a9bb61be5934"
      },
      "execution_count": null,
      "outputs": [
        {
          "output_type": "execute_result",
          "data": {
            "text/plain": [
              "                                                text  label\n",
              "0   https://t.co/G0nmNITjcy is cutting 25% of its...      0\n",
              "1   https://t.co/XNB7m39H8H Launches Fixed-term S...      0\n",
              "2  #ALSI future monthly putting in a reversal. St...      1\n",
              "3  #ALSI major constituent weightings within Top4...      1\n",
              "4  #Consumerdiscretionary outperforms $XLY $TSLA ...      1"
            ],
            "text/html": [
              "\n",
              "  <div id=\"df-c92fe29c-6407-4f10-bd2c-da1bf2e05cf0\">\n",
              "    <div class=\"colab-df-container\">\n",
              "      <div>\n",
              "<style scoped>\n",
              "    .dataframe tbody tr th:only-of-type {\n",
              "        vertical-align: middle;\n",
              "    }\n",
              "\n",
              "    .dataframe tbody tr th {\n",
              "        vertical-align: top;\n",
              "    }\n",
              "\n",
              "    .dataframe thead th {\n",
              "        text-align: right;\n",
              "    }\n",
              "</style>\n",
              "<table border=\"1\" class=\"dataframe\">\n",
              "  <thead>\n",
              "    <tr style=\"text-align: right;\">\n",
              "      <th></th>\n",
              "      <th>text</th>\n",
              "      <th>label</th>\n",
              "    </tr>\n",
              "  </thead>\n",
              "  <tbody>\n",
              "    <tr>\n",
              "      <th>0</th>\n",
              "      <td>https://t.co/G0nmNITjcy is cutting 25% of its...</td>\n",
              "      <td>0</td>\n",
              "    </tr>\n",
              "    <tr>\n",
              "      <th>1</th>\n",
              "      <td>https://t.co/XNB7m39H8H Launches Fixed-term S...</td>\n",
              "      <td>0</td>\n",
              "    </tr>\n",
              "    <tr>\n",
              "      <th>2</th>\n",
              "      <td>#ALSI future monthly putting in a reversal. St...</td>\n",
              "      <td>1</td>\n",
              "    </tr>\n",
              "    <tr>\n",
              "      <th>3</th>\n",
              "      <td>#ALSI major constituent weightings within Top4...</td>\n",
              "      <td>1</td>\n",
              "    </tr>\n",
              "    <tr>\n",
              "      <th>4</th>\n",
              "      <td>#Consumerdiscretionary outperforms $XLY $TSLA ...</td>\n",
              "      <td>1</td>\n",
              "    </tr>\n",
              "  </tbody>\n",
              "</table>\n",
              "</div>\n",
              "      <button class=\"colab-df-convert\" onclick=\"convertToInteractive('df-c92fe29c-6407-4f10-bd2c-da1bf2e05cf0')\"\n",
              "              title=\"Convert this dataframe to an interactive table.\"\n",
              "              style=\"display:none;\">\n",
              "        \n",
              "  <svg xmlns=\"http://www.w3.org/2000/svg\" height=\"24px\"viewBox=\"0 0 24 24\"\n",
              "       width=\"24px\">\n",
              "    <path d=\"M0 0h24v24H0V0z\" fill=\"none\"/>\n",
              "    <path d=\"M18.56 5.44l.94 2.06.94-2.06 2.06-.94-2.06-.94-.94-2.06-.94 2.06-2.06.94zm-11 1L8.5 8.5l.94-2.06 2.06-.94-2.06-.94L8.5 2.5l-.94 2.06-2.06.94zm10 10l.94 2.06.94-2.06 2.06-.94-2.06-.94-.94-2.06-.94 2.06-2.06.94z\"/><path d=\"M17.41 7.96l-1.37-1.37c-.4-.4-.92-.59-1.43-.59-.52 0-1.04.2-1.43.59L10.3 9.45l-7.72 7.72c-.78.78-.78 2.05 0 2.83L4 21.41c.39.39.9.59 1.41.59.51 0 1.02-.2 1.41-.59l7.78-7.78 2.81-2.81c.8-.78.8-2.07 0-2.86zM5.41 20L4 18.59l7.72-7.72 1.47 1.35L5.41 20z\"/>\n",
              "  </svg>\n",
              "      </button>\n",
              "      \n",
              "  <style>\n",
              "    .colab-df-container {\n",
              "      display:flex;\n",
              "      flex-wrap:wrap;\n",
              "      gap: 12px;\n",
              "    }\n",
              "\n",
              "    .colab-df-convert {\n",
              "      background-color: #E8F0FE;\n",
              "      border: none;\n",
              "      border-radius: 50%;\n",
              "      cursor: pointer;\n",
              "      display: none;\n",
              "      fill: #1967D2;\n",
              "      height: 32px;\n",
              "      padding: 0 0 0 0;\n",
              "      width: 32px;\n",
              "    }\n",
              "\n",
              "    .colab-df-convert:hover {\n",
              "      background-color: #E2EBFA;\n",
              "      box-shadow: 0px 1px 2px rgba(60, 64, 67, 0.3), 0px 1px 3px 1px rgba(60, 64, 67, 0.15);\n",
              "      fill: #174EA6;\n",
              "    }\n",
              "\n",
              "    [theme=dark] .colab-df-convert {\n",
              "      background-color: #3B4455;\n",
              "      fill: #D2E3FC;\n",
              "    }\n",
              "\n",
              "    [theme=dark] .colab-df-convert:hover {\n",
              "      background-color: #434B5C;\n",
              "      box-shadow: 0px 1px 3px 1px rgba(0, 0, 0, 0.15);\n",
              "      filter: drop-shadow(0px 1px 2px rgba(0, 0, 0, 0.3));\n",
              "      fill: #FFFFFF;\n",
              "    }\n",
              "  </style>\n",
              "\n",
              "      <script>\n",
              "        const buttonEl =\n",
              "          document.querySelector('#df-c92fe29c-6407-4f10-bd2c-da1bf2e05cf0 button.colab-df-convert');\n",
              "        buttonEl.style.display =\n",
              "          google.colab.kernel.accessAllowed ? 'block' : 'none';\n",
              "\n",
              "        async function convertToInteractive(key) {\n",
              "          const element = document.querySelector('#df-c92fe29c-6407-4f10-bd2c-da1bf2e05cf0');\n",
              "          const dataTable =\n",
              "            await google.colab.kernel.invokeFunction('convertToInteractive',\n",
              "                                                     [key], {});\n",
              "          if (!dataTable) return;\n",
              "\n",
              "          const docLinkHtml = 'Like what you see? Visit the ' +\n",
              "            '<a target=\"_blank\" href=https://colab.research.google.com/notebooks/data_table.ipynb>data table notebook</a>'\n",
              "            + ' to learn more about interactive tables.';\n",
              "          element.innerHTML = '';\n",
              "          dataTable['output_type'] = 'display_data';\n",
              "          await google.colab.output.renderOutput(dataTable, element);\n",
              "          const docLink = document.createElement('div');\n",
              "          docLink.innerHTML = docLinkHtml;\n",
              "          element.appendChild(docLink);\n",
              "        }\n",
              "      </script>\n",
              "    </div>\n",
              "  </div>\n",
              "  "
            ]
          },
          "metadata": {},
          "execution_count": 33
        }
      ]
    },
    {
      "cell_type": "code",
      "source": [
        "test_data.isnull().sum()"
      ],
      "metadata": {
        "colab": {
          "base_uri": "https://localhost:8080/"
        },
        "id": "YRjMsThCu3O5",
        "outputId": "1603ddc5-6975-4ee6-93ff-bcebd6d06abd"
      },
      "execution_count": null,
      "outputs": [
        {
          "output_type": "execute_result",
          "data": {
            "text/plain": [
              "text     0\n",
              "label    0\n",
              "dtype: int64"
            ]
          },
          "metadata": {},
          "execution_count": 34
        }
      ]
    },
    {
      "cell_type": "code",
      "source": [
        "info =test_data.drop(\"label\", axis=1)\n",
        "info"
      ],
      "metadata": {
        "colab": {
          "base_uri": "https://localhost:8080/",
          "height": 423
        },
        "id": "oYCRP2KovVkd",
        "outputId": "9e4ce82f-74fa-4706-9b57-11c796f9d324"
      },
      "execution_count": null,
      "outputs": [
        {
          "output_type": "execute_result",
          "data": {
            "text/plain": [
              "                                                   text\n",
              "0      https://t.co/G0nmNITjcy is cutting 25% of its...\n",
              "1      https://t.co/XNB7m39H8H Launches Fixed-term S...\n",
              "2     #ALSI future monthly putting in a reversal. St...\n",
              "3     #ALSI major constituent weightings within Top4...\n",
              "4     #Consumerdiscretionary outperforms $XLY $TSLA ...\n",
              "...                                                 ...\n",
              "1375  ZapBatt Partners with Toshiba to Unlock Proven...\n",
              "1376  ZEDEDA Closes $26M Series B Funding Round as D...\n",
              "1377  Zultys Receives 2022 Unified Communications Pr...\n",
              "1378  Zymeworks Announces Plan to Become a Delaware ...\n",
              "1379  Zyxel Communications Expands Portfolio of WiFi...\n",
              "\n",
              "[1380 rows x 1 columns]"
            ],
            "text/html": [
              "\n",
              "  <div id=\"df-9ebe5f05-f1f5-490b-8ced-5c7ccf88a9d3\">\n",
              "    <div class=\"colab-df-container\">\n",
              "      <div>\n",
              "<style scoped>\n",
              "    .dataframe tbody tr th:only-of-type {\n",
              "        vertical-align: middle;\n",
              "    }\n",
              "\n",
              "    .dataframe tbody tr th {\n",
              "        vertical-align: top;\n",
              "    }\n",
              "\n",
              "    .dataframe thead th {\n",
              "        text-align: right;\n",
              "    }\n",
              "</style>\n",
              "<table border=\"1\" class=\"dataframe\">\n",
              "  <thead>\n",
              "    <tr style=\"text-align: right;\">\n",
              "      <th></th>\n",
              "      <th>text</th>\n",
              "    </tr>\n",
              "  </thead>\n",
              "  <tbody>\n",
              "    <tr>\n",
              "      <th>0</th>\n",
              "      <td>https://t.co/G0nmNITjcy is cutting 25% of its...</td>\n",
              "    </tr>\n",
              "    <tr>\n",
              "      <th>1</th>\n",
              "      <td>https://t.co/XNB7m39H8H Launches Fixed-term S...</td>\n",
              "    </tr>\n",
              "    <tr>\n",
              "      <th>2</th>\n",
              "      <td>#ALSI future monthly putting in a reversal. St...</td>\n",
              "    </tr>\n",
              "    <tr>\n",
              "      <th>3</th>\n",
              "      <td>#ALSI major constituent weightings within Top4...</td>\n",
              "    </tr>\n",
              "    <tr>\n",
              "      <th>4</th>\n",
              "      <td>#Consumerdiscretionary outperforms $XLY $TSLA ...</td>\n",
              "    </tr>\n",
              "    <tr>\n",
              "      <th>...</th>\n",
              "      <td>...</td>\n",
              "    </tr>\n",
              "    <tr>\n",
              "      <th>1375</th>\n",
              "      <td>ZapBatt Partners with Toshiba to Unlock Proven...</td>\n",
              "    </tr>\n",
              "    <tr>\n",
              "      <th>1376</th>\n",
              "      <td>ZEDEDA Closes $26M Series B Funding Round as D...</td>\n",
              "    </tr>\n",
              "    <tr>\n",
              "      <th>1377</th>\n",
              "      <td>Zultys Receives 2022 Unified Communications Pr...</td>\n",
              "    </tr>\n",
              "    <tr>\n",
              "      <th>1378</th>\n",
              "      <td>Zymeworks Announces Plan to Become a Delaware ...</td>\n",
              "    </tr>\n",
              "    <tr>\n",
              "      <th>1379</th>\n",
              "      <td>Zyxel Communications Expands Portfolio of WiFi...</td>\n",
              "    </tr>\n",
              "  </tbody>\n",
              "</table>\n",
              "<p>1380 rows × 1 columns</p>\n",
              "</div>\n",
              "      <button class=\"colab-df-convert\" onclick=\"convertToInteractive('df-9ebe5f05-f1f5-490b-8ced-5c7ccf88a9d3')\"\n",
              "              title=\"Convert this dataframe to an interactive table.\"\n",
              "              style=\"display:none;\">\n",
              "        \n",
              "  <svg xmlns=\"http://www.w3.org/2000/svg\" height=\"24px\"viewBox=\"0 0 24 24\"\n",
              "       width=\"24px\">\n",
              "    <path d=\"M0 0h24v24H0V0z\" fill=\"none\"/>\n",
              "    <path d=\"M18.56 5.44l.94 2.06.94-2.06 2.06-.94-2.06-.94-.94-2.06-.94 2.06-2.06.94zm-11 1L8.5 8.5l.94-2.06 2.06-.94-2.06-.94L8.5 2.5l-.94 2.06-2.06.94zm10 10l.94 2.06.94-2.06 2.06-.94-2.06-.94-.94-2.06-.94 2.06-2.06.94z\"/><path d=\"M17.41 7.96l-1.37-1.37c-.4-.4-.92-.59-1.43-.59-.52 0-1.04.2-1.43.59L10.3 9.45l-7.72 7.72c-.78.78-.78 2.05 0 2.83L4 21.41c.39.39.9.59 1.41.59.51 0 1.02-.2 1.41-.59l7.78-7.78 2.81-2.81c.8-.78.8-2.07 0-2.86zM5.41 20L4 18.59l7.72-7.72 1.47 1.35L5.41 20z\"/>\n",
              "  </svg>\n",
              "      </button>\n",
              "      \n",
              "  <style>\n",
              "    .colab-df-container {\n",
              "      display:flex;\n",
              "      flex-wrap:wrap;\n",
              "      gap: 12px;\n",
              "    }\n",
              "\n",
              "    .colab-df-convert {\n",
              "      background-color: #E8F0FE;\n",
              "      border: none;\n",
              "      border-radius: 50%;\n",
              "      cursor: pointer;\n",
              "      display: none;\n",
              "      fill: #1967D2;\n",
              "      height: 32px;\n",
              "      padding: 0 0 0 0;\n",
              "      width: 32px;\n",
              "    }\n",
              "\n",
              "    .colab-df-convert:hover {\n",
              "      background-color: #E2EBFA;\n",
              "      box-shadow: 0px 1px 2px rgba(60, 64, 67, 0.3), 0px 1px 3px 1px rgba(60, 64, 67, 0.15);\n",
              "      fill: #174EA6;\n",
              "    }\n",
              "\n",
              "    [theme=dark] .colab-df-convert {\n",
              "      background-color: #3B4455;\n",
              "      fill: #D2E3FC;\n",
              "    }\n",
              "\n",
              "    [theme=dark] .colab-df-convert:hover {\n",
              "      background-color: #434B5C;\n",
              "      box-shadow: 0px 1px 3px 1px rgba(0, 0, 0, 0.15);\n",
              "      filter: drop-shadow(0px 1px 2px rgba(0, 0, 0, 0.3));\n",
              "      fill: #FFFFFF;\n",
              "    }\n",
              "  </style>\n",
              "\n",
              "      <script>\n",
              "        const buttonEl =\n",
              "          document.querySelector('#df-9ebe5f05-f1f5-490b-8ced-5c7ccf88a9d3 button.colab-df-convert');\n",
              "        buttonEl.style.display =\n",
              "          google.colab.kernel.accessAllowed ? 'block' : 'none';\n",
              "\n",
              "        async function convertToInteractive(key) {\n",
              "          const element = document.querySelector('#df-9ebe5f05-f1f5-490b-8ced-5c7ccf88a9d3');\n",
              "          const dataTable =\n",
              "            await google.colab.kernel.invokeFunction('convertToInteractive',\n",
              "                                                     [key], {});\n",
              "          if (!dataTable) return;\n",
              "\n",
              "          const docLinkHtml = 'Like what you see? Visit the ' +\n",
              "            '<a target=\"_blank\" href=https://colab.research.google.com/notebooks/data_table.ipynb>data table notebook</a>'\n",
              "            + ' to learn more about interactive tables.';\n",
              "          element.innerHTML = '';\n",
              "          dataTable['output_type'] = 'display_data';\n",
              "          await google.colab.output.renderOutput(dataTable, element);\n",
              "          const docLink = document.createElement('div');\n",
              "          docLink.innerHTML = docLinkHtml;\n",
              "          element.appendChild(docLink);\n",
              "        }\n",
              "      </script>\n",
              "    </div>\n",
              "  </div>\n",
              "  "
            ]
          },
          "metadata": {},
          "execution_count": 35
        }
      ]
    },
    {
      "cell_type": "code",
      "source": [
        "corpus1= []\n",
        "def data_preprocess(news):\n",
        "  ps = PorterStemmer()\n",
        "\n",
        "  for i in range(0, len(news)):\n",
        "    text = re.sub(\"[^a-zA-Z]\", \" \", news[\"text\"][i])\n",
        "    text = text.lower()\n",
        "    text= text.split()\n",
        "    text = [ps.stem(word) for word in text if not word in stopwords.words(\"english\")]\n",
        "    text = \" \".join(text)\n",
        "    corpus1.append(text)\n",
        "data_preprocess(info)"
      ],
      "metadata": {
        "id": "OETRDjvru6Fo"
      },
      "execution_count": null,
      "outputs": []
    },
    {
      "cell_type": "code",
      "source": [
        "one_hot_repr = [one_hot(words, vocab_size) for words in corpus1]\n",
        "embedded_docu = pad_sequences(one_hot_repr, padding=\"pre\", maxlen =sent_length)\n",
        "embedded_docu[0]"
      ],
      "metadata": {
        "colab": {
          "base_uri": "https://localhost:8080/"
        },
        "id": "4d-81_9OvPUG",
        "outputId": "3ebb9d3a-031f-4861-d31c-e537e8cca2b3"
      },
      "execution_count": null,
      "outputs": [
        {
          "output_type": "execute_result",
          "data": {
            "text/plain": [
              "array([   0,    0,    0,    0,    0,    0,    0,    0,    0,    0,  798,\n",
              "       1035, 1588, 2094, 3090, 2867, 1419, 4430, 4145, 4438], dtype=int32)"
            ]
          },
          "metadata": {},
          "execution_count": 37
        }
      ]
    },
    {
      "cell_type": "code",
      "source": [
        "y_pred =model.predict(embedded_docu)"
      ],
      "metadata": {
        "colab": {
          "base_uri": "https://localhost:8080/"
        },
        "id": "Wq2X1ZAIyySo",
        "outputId": "b4c3d844-d348-46c7-e92b-bd5e090f94e8"
      },
      "execution_count": null,
      "outputs": [
        {
          "output_type": "stream",
          "name": "stdout",
          "text": [
            "44/44 [==============================] - 0s 3ms/step\n"
          ]
        }
      ]
    },
    {
      "cell_type": "code",
      "source": [
        "np.round(y_pred)"
      ],
      "metadata": {
        "colab": {
          "base_uri": "https://localhost:8080/"
        },
        "id": "6vcxq6S-_gi2",
        "outputId": "a789983c-bd3e-4973-fd6a-c511cb73659b"
      },
      "execution_count": null,
      "outputs": [
        {
          "output_type": "execute_result",
          "data": {
            "text/plain": [
              "array([[0.],\n",
              "       [0.],\n",
              "       [1.],\n",
              "       ...,\n",
              "       [0.],\n",
              "       [0.],\n",
              "       [0.]], dtype=float32)"
            ]
          },
          "metadata": {},
          "execution_count": 46
        }
      ]
    },
    {
      "cell_type": "code",
      "source": [
        "model.evaluate(embedded_docu)"
      ],
      "metadata": {
        "colab": {
          "base_uri": "https://localhost:8080/"
        },
        "id": "Qp64U_AKzFzy",
        "outputId": "9829abee-8afd-4fd5-96d0-322409b94722"
      },
      "execution_count": null,
      "outputs": [
        {
          "output_type": "stream",
          "name": "stdout",
          "text": [
            "44/44 [==============================] - 0s 4ms/step - loss: 0.0000e+00 - accuracy: 0.0000e+00\n"
          ]
        },
        {
          "output_type": "execute_result",
          "data": {
            "text/plain": [
              "[0.0, 0.0]"
            ]
          },
          "metadata": {},
          "execution_count": 39
        }
      ]
    },
    {
      "cell_type": "markdown",
      "source": [
        "# Conclusion:\n",
        "*  We have used the News Classification dataset for our RNN model. We have preprocessed the data and one hot encoded the values.As the sequence of input to our model should be of equal length we pad them. We have set the input dimensions as 5000 and the length of the input sequence is 20. We will be embedding the 5000 word vocabulary into 40 dimension (embedding_feature_vector). The model consists of 1 embedding, 1 RNN layer and an output layer. The accuracy of this model is 99%. We obtained the same results even after adding the batch normalization layer.\n",
        "\n",
        "* The model is tested with a new dataset and though the model was able to predict  both the  classes, it's prediction is completely wrong.\n"
      ],
      "metadata": {
        "id": "JPfxW3b68cQ0"
      }
    },
    {
      "cell_type": "code",
      "source": [],
      "metadata": {
        "id": "v5Trz58S_z7w"
      },
      "execution_count": null,
      "outputs": []
    }
  ]
}