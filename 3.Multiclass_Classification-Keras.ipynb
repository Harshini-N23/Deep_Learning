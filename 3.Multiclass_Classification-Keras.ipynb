{
  "cells": [
    {
      "cell_type": "markdown",
      "metadata": {
        "id": "8iwTZ3pejeLN"
      },
      "source": [
        "\n",
        "\n",
        "## Aim: To Build a classification model for the handwritten recognition dataset using the neural network model.\n",
        "## Objective:\n",
        "### *To analyse the efficiency of model by tuning the number of layers, number of neurons, optimizer and epochs\n",
        "## Dataset  : MNIST"
      ]
    },
    {
      "cell_type": "markdown",
      "metadata": {
        "id": "wlD4na-UkD0_"
      },
      "source": [
        "Loading the Libraries"
      ]
    },
    {
      "cell_type": "code",
      "execution_count": null,
      "metadata": {
        "colab": {
          "background_save": true
        },
        "id": "5ogVI6X6-jni"
      },
      "outputs": [],
      "source": [
        "import numpy as np\n",
        "import tensorflow as tf\n",
        "import matplotlib.pyplot as plt\n",
        "import seaborn as sns"
      ]
    },
    {
      "cell_type": "markdown",
      "metadata": {
        "id": "CTj9IH2OkGPQ"
      },
      "source": [
        "Loading the data"
      ]
    },
    {
      "cell_type": "code",
      "execution_count": null,
      "metadata": {
        "colab": {
          "background_save": true,
          "base_uri": "https://localhost:8080/"
        },
        "id": "OwvkKTnm_xcI",
        "outputId": "2084cfe8-8a0f-4601-9221-09bba76690d7"
      },
      "outputs": [
        {
          "name": "stdout",
          "output_type": "stream",
          "text": [
            "Downloading data from https://storage.googleapis.com/tensorflow/tf-keras-datasets/mnist.npz\n",
            "11490434/11490434 [==============================] - 0s 0us/step\n"
          ]
        }
      ],
      "source": [
        "from keras.datasets import mnist\n",
        "(X_train,y_train),(X_test, y_test) =mnist.load_data()"
      ]
    },
    {
      "cell_type": "code",
      "execution_count": null,
      "metadata": {
        "colab": {
          "background_save": true,
          "base_uri": "https://localhost:8080/"
        },
        "id": "WGyxtQOW_2IW",
        "outputId": "6b1d1a85-a1c6-49b7-b801-fe14e7dd5d35"
      },
      "outputs": [
        {
          "name": "stdout",
          "output_type": "stream",
          "text": [
            "(60000, 28, 28)\n",
            "(60000,)\n"
          ]
        }
      ],
      "source": [
        "print(X_train.shape)\n",
        "print(y_train.shape)"
      ]
    },
    {
      "cell_type": "code",
      "execution_count": null,
      "metadata": {
        "colab": {
          "background_save": true,
          "base_uri": "https://localhost:8080/"
        },
        "id": "GZPHiKNL38qy",
        "outputId": "cf8d28f2-bcb3-4e35-a30d-e911109b6b96"
      },
      "outputs": [
        {
          "data": {
            "text/plain": [
              "dtype('uint8')"
            ]
          },
          "execution_count": 4,
          "metadata": {},
          "output_type": "execute_result"
        }
      ],
      "source": [
        "X_train.dtype"
      ]
    },
    {
      "cell_type": "code",
      "execution_count": null,
      "metadata": {
        "colab": {
          "background_save": true,
          "base_uri": "https://localhost:8080/"
        },
        "id": "vbnRhEEBEA8W",
        "outputId": "355e8d04-2d1d-43a2-ebb7-5ad0dec26e0b"
      },
      "outputs": [
        {
          "name": "stdout",
          "output_type": "stream",
          "text": [
            "(10000, 28, 28)\n",
            "(10000,)\n"
          ]
        }
      ],
      "source": [
        "print(X_test.shape)\n",
        "print(y_test.shape)"
      ]
    },
    {
      "cell_type": "code",
      "execution_count": null,
      "metadata": {
        "colab": {
          "background_save": true,
          "base_uri": "https://localhost:8080/",
          "height": 106
        },
        "id": "VpMMLCgaEHt2",
        "outputId": "a72a13b8-6f28-4e13-e593-5fc4d98da2b6"
      },
      "outputs": [
        {
          "data": {
            "image/png": "[encoded data removed]",
            "text/plain": [
              "<Figure size 842.4x720 with 10 Axes>"
            ]
          },
          "metadata": {},
          "output_type": "display_data"
        }
      ],
      "source": [
        "fig,ax = plt.subplots(ncols =10, figsize=(11.7,10))\n",
        "for i in range(10):\n",
        "  ax[i].imshow(X_train[i])\n",
        "\n"
      ]
    },
    {
      "cell_type": "code",
      "execution_count": null,
      "metadata": {
        "colab": {
          "background_save": true,
          "base_uri": "https://localhost:8080/"
        },
        "id": "b_9GYdUYGTZc",
        "outputId": "aac6763f-aa06-4d23-d7bb-e2ac582e9896"
      },
      "outputs": [
        {
          "name": "stdout",
          "output_type": "stream",
          "text": [
            "[  0   1   2   3   4   5   6   7   8   9  10  11  12  13  14  15  16  17\n",
            "  18  19  20  21  22  23  24  25  26  27  28  29  30  31  32  33  34  35\n",
            "  36  37  38  39  40  41  42  43  44  45  46  47  48  49  50  51  52  53\n",
            "  54  55  56  57  58  59  60  61  62  63  64  65  66  67  68  69  70  71\n",
            "  72  73  74  75  76  77  78  79  80  81  82  83  84  85  86  87  88  89\n",
            "  90  91  92  93  94  95  96  97  98  99 100 101 102 103 104 105 106 107\n",
            " 108 109 110 111 112 113 114 115 116 117 118 119 120 121 122 123 124 125\n",
            " 126 127 128 129 130 131 132 133 134 135 136 137 138 139 140 141 142 143\n",
            " 144 145 146 147 148 149 150 151 152 153 154 155 156 157 158 159 160 161\n",
            " 162 163 164 165 166 167 168 169 170 171 172 173 174 175 176 177 178 179\n",
            " 180 181 182 183 184 185 186 187 188 189 190 191 192 193 194 195 196 197\n",
            " 198 199 200 201 202 203 204 205 206 207 208 209 210 211 212 213 214 215\n",
            " 216 217 218 219 220 221 222 223 224 225 226 227 228 229 230 231 232 233\n",
            " 234 235 236 237 238 239 240 241 242 243 244 245 246 247 248 249 250 251\n",
            " 252 253 254 255] [0 1 2 3 4 5 6 7 8 9]\n"
          ]
        }
      ],
      "source": [
        "print(np.unique(X_train), np.unique(y_train))\n"
      ]
    },
    {
      "cell_type": "code",
      "execution_count": null,
      "metadata": {
        "colab": {
          "background_save": true
        },
        "id": "xMHiX1JfHFNx"
      },
      "outputs": [],
      "source": [
        "X_train =X_train/255\n",
        "X_test =X_test/255"
      ]
    },
    {
      "cell_type": "markdown",
      "metadata": {
        "id": "jed8LgqXIMaQ"
      },
      "source": [
        "# Model 1:\n",
        "* --> For 10 Epochs.\n",
        "* --> Input and Two Hidden layer with 50 neurons and Relu Activation Function. Output Layer has Softmax Activation Function.\n",
        "* --> Optimizer : Adam\n",
        "* --> Loss Function : Sparse Categorical Cross Entropy"
      ]
    },
    {
      "cell_type": "code",
      "execution_count": null,
      "metadata": {
        "colab": {
          "base_uri": "https://localhost:8080/",
          "height": 664
        },
        "id": "5Rvn6bfcKEwg",
        "outputId": "dad6e210-2591-47f8-f2a2-ac15b9ce61ed"
      },
      "outputs": [
        {
          "name": "stdout",
          "output_type": "stream",
          "text": [
            "Epoch 1/10\n",
            "1875/1875 [==============================] - 5s 3ms/step - loss: 0.2983 - accuracy: 0.9138\n",
            "Epoch 2/10\n",
            "1875/1875 [==============================] - 5s 2ms/step - loss: 0.1368 - accuracy: 0.9591\n",
            "Epoch 3/10\n",
            "1875/1875 [==============================] - 5s 2ms/step - loss: 0.1025 - accuracy: 0.9682\n",
            "Epoch 4/10\n",
            "1875/1875 [==============================] - 5s 2ms/step - loss: 0.0836 - accuracy: 0.9745\n",
            "Epoch 5/10\n",
            "1875/1875 [==============================] - 5s 2ms/step - loss: 0.0683 - accuracy: 0.9788\n",
            "Epoch 6/10\n",
            "1875/1875 [==============================] - 4s 2ms/step - loss: 0.0601 - accuracy: 0.9809\n",
            "Epoch 7/10\n",
            "1875/1875 [==============================] - 5s 2ms/step - loss: 0.0509 - accuracy: 0.9839\n",
            "Epoch 8/10\n",
            "1875/1875 [==============================] - 5s 2ms/step - loss: 0.0452 - accuracy: 0.9863\n",
            "Epoch 9/10\n",
            "1875/1875 [==============================] - 4s 2ms/step - loss: 0.0403 - accuracy: 0.9865\n",
            "Epoch 10/10\n",
            "1875/1875 [==============================] - 4s 2ms/step - loss: 0.0347 - accuracy: 0.9883\n",
            "313/313 [==============================] - 1s 2ms/step - loss: 0.1051 - accuracy: 0.9699\n",
            "Loss:  0.11 Accuracy:  0.97\n"
          ]
        },
        {
          "data": {
            "image/png": "[encoded data removed]",
            "text/plain": [
              "<Figure size 432x288 with 1 Axes>"
            ]
          },
          "metadata": {},
          "output_type": "display_data"
        },
        {
          "name": "stdout",
          "output_type": "stream",
          "text": [
            "Predicted:  7\n"
          ]
        }
      ],
      "source": [
        "tf.random.set_seed(3)\n",
        "\n",
        "model = tf.keras.Sequential([\n",
        "    tf.keras.layers.Flatten(input_shape=(28,28)),\n",
        "    tf.keras.layers.Dense(50, activation = \"relu\"),\n",
        "    tf.keras.layers.Dense(50, activation =\"relu\"),\n",
        "    tf.keras.layers.Dense(10, activation =\"softmax\")\n",
        "])\n",
        "\n",
        "model.compile(loss = \"sparse_categorical_crossentropy\",\n",
        "              optimizer =tf.keras.optimizers.Adam(),\n",
        "              metrics=[\"accuracy\"])\n",
        "\n",
        "history1 = model.fit(tf.expand_dims(X_train, axis=-1), y_train, epochs=10)\n",
        "\n",
        "loss1, accuracy1 = model.evaluate(X_test, y_test)\n",
        "print(\"Loss: \", round(loss1,2), \"Accuracy: \",\"%.2f\"%accuracy1)\n",
        "\n",
        "plt.imshow( X_test[0])\n",
        "plt.show()\n",
        "print(\"Predicted: \",y_test[0])"
      ]
    },
    {
      "cell_type": "code",
      "execution_count": null,
      "metadata": {
        "colab": {
          "base_uri": "https://localhost:8080/",
          "height": 279
        },
        "id": "a6qBGHfrC4oQ",
        "outputId": "bcf89ebc-bc68-4695-cd75-8b8c5da46319"
      },
      "outputs": [
        {
          "data": {
            "image/png": "[encoded data removed]",
            "text/plain": [
              "<Figure size 432x288 with 1 Axes>"
            ]
          },
          "metadata": {},
          "output_type": "display_data"
        }
      ],
      "source": [
        "plt.plot(history1.history[\"accuracy\"], label =\"Test_Accuracy\")\n",
        "plt.plot(history1.history[\"loss\"], label =\"Test_loss\")\n",
        "plt.xlabel(\"Epochs\")\n",
        "plt.ylabel(\"Accuracy\")\n",
        "plt.legend()\n",
        "plt.show()"
      ]
    },
    {
      "cell_type": "markdown",
      "metadata": {
        "id": "3-xRYEH3I5gt"
      },
      "source": [
        "# Model 2:\n",
        "* --> For 5 Epochs.\n",
        "* --> Input and One Hidden layer with 28 neurons and Relu Activation Function. Output Layer has Softmax Activation Function.\n",
        "* --> Optimizer : Stochastic Gradient Descent\n",
        "* --> Loss Function : Sparse Categorical Cross Entropy"
      ]
    },
    {
      "cell_type": "code",
      "execution_count": null,
      "metadata": {
        "colab": {
          "base_uri": "https://localhost:8080/",
          "height": 753
        },
        "id": "3I_6iw5MPpCc",
        "outputId": "a7e2d4e4-05bf-4c54-f976-f6e25c73f13e"
      },
      "outputs": [
        {
          "name": "stdout",
          "output_type": "stream",
          "text": [
            "Epoch 1/5\n",
            "1875/1875 [==============================] - 4s 2ms/step - loss: 0.7049 - accuracy: 0.8156\n",
            "Epoch 2/5\n",
            "1875/1875 [==============================] - 6s 3ms/step - loss: 0.3649 - accuracy: 0.8978\n",
            "Epoch 3/5\n",
            "1875/1875 [==============================] - 4s 2ms/step - loss: 0.3215 - accuracy: 0.9086\n",
            "Epoch 4/5\n",
            "1875/1875 [==============================] - 4s 2ms/step - loss: 0.2981 - accuracy: 0.9159\n",
            "Epoch 5/5\n",
            "1875/1875 [==============================] - 3s 2ms/step - loss: 0.2813 - accuracy: 0.9199\n",
            "313/313 [==============================] - 1s 2ms/step - loss: 0.2680 - accuracy: 0.9247\n",
            "Loss:  0.27 Accuracy:  0.92\n"
          ]
        },
        {
          "data": {
            "image/png": "[encoded data removed]",
            "text/plain": [
              "<Figure size 432x288 with 1 Axes>"
            ]
          },
          "metadata": {},
          "output_type": "display_data"
        },
        {
          "name": "stdout",
          "output_type": "stream",
          "text": [
            "Predicted:  7\n"
          ]
        },
        {
          "data": {
            "image/png": "[encoded data removed]",
            "text/plain": [
              "<Figure size 432x288 with 1 Axes>"
            ]
          },
          "metadata": {},
          "output_type": "display_data"
        }
      ],
      "source": [
        "tf.random.set_seed(3)\n",
        "\n",
        "model = tf.keras.Sequential([\n",
        "    tf.keras.layers.Flatten(input_shape=(28,28)),\n",
        "    tf.keras.layers.Dense(28, activation =\"relu\"),\n",
        "    tf.keras.layers.Dense(10, activation =\"softmax\")\n",
        "])\n",
        "\n",
        "model.compile(loss = \"sparse_categorical_crossentropy\",\n",
        "              optimizer =tf.keras.optimizers.SGD(),\n",
        "              metrics=[\"accuracy\"])\n",
        "\n",
        "history2 = model.fit(tf.expand_dims(X_train, axis=-1), y_train, epochs=5)\n",
        "\n",
        "loss2, accuracy2 = model.evaluate(X_test, y_test)\n",
        "print(\"Loss: \", round(loss2,2), \"Accuracy: \",\"%.2f\"%accuracy2)\n",
        "\n",
        "plt.imshow( X_test[0])\n",
        "plt.show()\n",
        "print(\"Predicted: \",y_test[0])\n",
        "\n",
        "plt.plot(history2.history[\"accuracy\"], label =\"Test_Accuracy\")\n",
        "plt.plot(history2.history[\"loss\"], label =\"Test_loss\")\n",
        "plt.xlabel(\"Epochs\")\n",
        "plt.ylabel(\"Accuracy\")\n",
        "plt.legend()\n",
        "plt.show()"
      ]
    },
    {
      "cell_type": "markdown",
      "metadata": {
        "id": "4LmsFyDLJNIO"
      },
      "source": [
        "# Model 3:\n",
        "* --> For 20 Epochs.\n",
        "* -->  One Hidden layer with 28 neurons and Relu Activation Function. Second Hidden Layer with 30 neurons Output Layer has Softmax Activation Function.\n",
        "* --> Optimizer : Stochastic Gradient Descent\n",
        "* --> Loss Function : Sparse Categorical Cross Entropy"
      ]
    },
    {
      "cell_type": "code",
      "execution_count": null,
      "metadata": {
        "colab": {
          "base_uri": "https://localhost:8080/",
          "height": 1000
        },
        "id": "i7zQqV2nPwCl",
        "outputId": "e307739c-b407-479e-cf04-f58e6c452cc6"
      },
      "outputs": [
        {
          "name": "stdout",
          "output_type": "stream",
          "text": [
            "Epoch 1/20\n",
            "1875/1875 [==============================] - 4s 2ms/step - loss: 0.7749 - accuracy: 0.7763\n",
            "Epoch 2/20\n",
            "1875/1875 [==============================] - 4s 2ms/step - loss: 0.3306 - accuracy: 0.9055\n",
            "Epoch 3/20\n",
            "1875/1875 [==============================] - 3s 2ms/step - loss: 0.2814 - accuracy: 0.9187\n",
            "Epoch 4/20\n",
            "1875/1875 [==============================] - 3s 2ms/step - loss: 0.2514 - accuracy: 0.9283\n",
            "Epoch 5/20\n",
            "1875/1875 [==============================] - 4s 2ms/step - loss: 0.2288 - accuracy: 0.9341\n",
            "Epoch 6/20\n",
            "1875/1875 [==============================] - 3s 2ms/step - loss: 0.2102 - accuracy: 0.9393\n",
            "Epoch 7/20\n",
            "1875/1875 [==============================] - 3s 2ms/step - loss: 0.1948 - accuracy: 0.9434\n",
            "Epoch 8/20\n",
            "1875/1875 [==============================] - 3s 2ms/step - loss: 0.1811 - accuracy: 0.9482\n",
            "Epoch 9/20\n",
            "1875/1875 [==============================] - 4s 2ms/step - loss: 0.1702 - accuracy: 0.9506\n",
            "Epoch 10/20\n",
            "1875/1875 [==============================] - 4s 2ms/step - loss: 0.1608 - accuracy: 0.9537\n",
            "Epoch 11/20\n",
            "1875/1875 [==============================] - 3s 2ms/step - loss: 0.1525 - accuracy: 0.9552\n",
            "Epoch 12/20\n",
            "1875/1875 [==============================] - 3s 2ms/step - loss: 0.1450 - accuracy: 0.9585\n",
            "Epoch 13/20\n",
            "1875/1875 [==============================] - 3s 2ms/step - loss: 0.1386 - accuracy: 0.9600\n",
            "Epoch 14/20\n",
            "1875/1875 [==============================] - 3s 2ms/step - loss: 0.1322 - accuracy: 0.9612\n",
            "Epoch 15/20\n",
            "1875/1875 [==============================] - 3s 2ms/step - loss: 0.1274 - accuracy: 0.9625\n",
            "Epoch 16/20\n",
            "1875/1875 [==============================] - 3s 2ms/step - loss: 0.1227 - accuracy: 0.9643\n",
            "Epoch 17/20\n",
            "1875/1875 [==============================] - 3s 2ms/step - loss: 0.1188 - accuracy: 0.9653\n",
            "Epoch 18/20\n",
            "1875/1875 [==============================] - 3s 2ms/step - loss: 0.1141 - accuracy: 0.9668\n",
            "Epoch 19/20\n",
            "1875/1875 [==============================] - 3s 2ms/step - loss: 0.1106 - accuracy: 0.9679\n",
            "Epoch 20/20\n",
            "1875/1875 [==============================] - 3s 2ms/step - loss: 0.1069 - accuracy: 0.9684\n",
            "313/313 [==============================] - 1s 2ms/step - loss: 0.1344 - accuracy: 0.9588\n",
            "Loss:  0.13 Accuracy:  0.96\n"
          ]
        },
        {
          "data": {
            "image/png": "[encoded data removed]",
            "text/plain": [
              "<Figure size 432x288 with 1 Axes>"
            ]
          },
          "metadata": {},
          "output_type": "display_data"
        },
        {
          "name": "stdout",
          "output_type": "stream",
          "text": [
            "Predicted:  0\n"
          ]
        },
        {
          "data": {
            "image/png": "[encoded data removed]",
            "text/plain": [
              "<Figure size 432x288 with 1 Axes>"
            ]
          },
          "metadata": {},
          "output_type": "display_data"
        }
      ],
      "source": [
        "tf.random.set_seed(3)\n",
        "\n",
        "model = tf.keras.Sequential([\n",
        "    tf.keras.layers.Flatten(input_shape=(28,28)),\n",
        "    tf.keras.layers.Dense(28, activation =\"relu\"),\n",
        "    tf.keras.layers.Dense(30, activation =\"relu\"),\n",
        "    tf.keras.layers.Dense(10, activation =\"softmax\")\n",
        "])\n",
        "\n",
        "model.compile(loss = \"sparse_categorical_crossentropy\",\n",
        "              optimizer =tf.keras.optimizers.SGD(),\n",
        "              metrics=[\"accuracy\"])\n",
        "\n",
        "history3 = model.fit(tf.expand_dims(X_train, axis=-1), y_train, epochs=20)\n",
        "\n",
        "loss3, accuracy3 = model.evaluate(X_test, y_test)\n",
        "print(\"Loss: \", round(loss3,2), \"Accuracy: \",\"%.2f\"%accuracy3)\n",
        "\n",
        "plt.imshow( X_test[10])\n",
        "plt.show()\n",
        "print(\"Predicted: \",y_test[10])\n",
        "\n",
        "plt.plot(history3.history[\"accuracy\"], label =\"Test_Accuracy\")\n",
        "plt.plot(history3.history[\"loss\"], label =\"Test_loss\")\n",
        "plt.xlabel(\"Epochs\")\n",
        "plt.ylabel(\"Accuracy\")\n",
        "plt.legend()\n",
        "plt.show()"
      ]
    },
    {
      "cell_type": "markdown",
      "metadata": {
        "id": "LfbL6vNdJfhA"
      },
      "source": [
        "# Model 4:\n",
        "* --> For 5 Epochs.\n",
        "* --> One Input and three Hidden layer with 28,30,25 neurons respectively and Relu Activation Function. Output Layer has Softmax Activation Function.\n",
        "* --> Optimizer : Stochastic Gradient descent\n",
        "* --> Loss Function : Sparse Categorical Cross Entropy"
      ]
    },
    {
      "cell_type": "code",
      "execution_count": null,
      "metadata": {
        "colab": {
          "base_uri": "https://localhost:8080/",
          "height": 926
        },
        "id": "inuwzwTBRbJY",
        "outputId": "624ed664-39c3-410b-c643-ec3974c65e5c"
      },
      "outputs": [
        {
          "name": "stdout",
          "output_type": "stream",
          "text": [
            "Epoch 1/10\n",
            "1875/1875 [==============================] - 4s 2ms/step - loss: 2.2920 - accuracy: 0.1624\n",
            "Epoch 2/10\n",
            "1875/1875 [==============================] - 4s 2ms/step - loss: 2.1101 - accuracy: 0.4066\n",
            "Epoch 3/10\n",
            "1875/1875 [==============================] - 4s 2ms/step - loss: 1.7695 - accuracy: 0.3946\n",
            "Epoch 4/10\n",
            "1875/1875 [==============================] - 4s 2ms/step - loss: 1.5410 - accuracy: 0.4002\n",
            "Epoch 5/10\n",
            "1875/1875 [==============================] - 4s 2ms/step - loss: 1.4136 - accuracy: 0.4055\n",
            "Epoch 6/10\n",
            "1875/1875 [==============================] - 4s 2ms/step - loss: 1.3463 - accuracy: 0.4144\n",
            "Epoch 7/10\n",
            "1875/1875 [==============================] - 4s 2ms/step - loss: 1.2996 - accuracy: 0.4261\n",
            "Epoch 8/10\n",
            "1875/1875 [==============================] - 4s 2ms/step - loss: 1.2652 - accuracy: 0.4323\n",
            "Epoch 9/10\n",
            "1875/1875 [==============================] - 4s 2ms/step - loss: 1.2415 - accuracy: 0.4394\n",
            "Epoch 10/10\n",
            "1875/1875 [==============================] - 3s 2ms/step - loss: 1.2218 - accuracy: 0.4505\n",
            "313/313 [==============================] - 1s 2ms/step - loss: 1.2140 - accuracy: 0.4730\n",
            "Loss:  1.21 Accuracy:  0.47\n"
          ]
        },
        {
          "data": {
            "image/png": "[encoded data removed]",
            "text/plain": [
              "<Figure size 432x288 with 1 Axes>"
            ]
          },
          "metadata": {},
          "output_type": "display_data"
        },
        {
          "name": "stdout",
          "output_type": "stream",
          "text": [
            "Predicted:  7\n"
          ]
        },
        {
          "data": {
            "image/png": "[encoded data removed]",
            "text/plain": [
              "<Figure size 432x288 with 1 Axes>"
            ]
          },
          "metadata": {},
          "output_type": "display_data"
        }
      ],
      "source": [
        "tf.random.set_seed(3)\n",
        "\n",
        "model = tf.keras.Sequential([\n",
        "    tf.keras.layers.Flatten(input_shape=(28,28)),\n",
        "    tf.keras.layers.Dense(28, activation =\"relu\"),\n",
        "    tf.keras.layers.Dense(30, activation =\"relu\"),\n",
        "    tf.keras.layers.Dense(25, activation =\"softmax\"),\n",
        "    tf.keras.layers.Dense(10, activation =\"softmax\")\n",
        "])\n",
        "\n",
        "a = model.compile(loss = \"sparse_categorical_crossentropy\",\n",
        "              optimizer =tf.keras.optimizers.SGD(),\n",
        "              metrics=[\"accuracy\"])\n",
        "\n",
        "history4 = model.fit(tf.expand_dims(X_train, axis=-1), y_train, epochs=10)\n",
        "\n",
        "loss4, accuracy4 = model.evaluate(X_test, y_test)\n",
        "print(\"Loss: \", round(loss4,2), \"Accuracy: \",\"%.2f\"%accuracy4)\n",
        "\n",
        "plt.imshow( X_test[0])\n",
        "plt.show()\n",
        "print(\"Predicted: \",y_test[0])\n",
        "\n",
        "plt.plot(history4.history[\"accuracy\"], label =\"Test_Accuracy\")\n",
        "plt.plot(history4.history[\"loss\"],label = \"Test_Loss\")\n",
        "plt.xlabel(\"Epochs\")\n",
        "plt.ylabel(\"Accuracy\")\n",
        "plt.legend()\n",
        "plt.show()"
      ]
    },
    {
      "cell_type": "markdown",
      "source": [
        "# Conclusion\n"
      ],
      "metadata": {
        "id": "N3WBFtOXfV6R"
      }
    },
    {
      "cell_type": "code",
      "execution_count": null,
      "metadata": {
        "colab": {
          "base_uri": "https://localhost:8080/",
          "height": 175
        },
        "id": "B6vDKkfmRe9r",
        "outputId": "43939dbd-3381-4235-e113-cb9ee6aabb0b"
      },
      "outputs": [
        {
          "data": {
            "text/html": [
              "\n",
              "  <div id=\"df-8bcd7f08-a301-4371-a5eb-fe61b382dfba\">\n",
              "    <div class=\"colab-df-container\">\n",
              "      <div>\n",
              "<style scoped>\n",
              "    .dataframe tbody tr th:only-of-type {\n",
              "        vertical-align: middle;\n",
              "    }\n",
              "\n",
              "    .dataframe tbody tr th {\n",
              "        vertical-align: top;\n",
              "    }\n",
              "\n",
              "    .dataframe thead th {\n",
              "        text-align: right;\n",
              "    }\n",
              "</style>\n",
              "<table border=\"1\" class=\"dataframe\">\n",
              "  <thead>\n",
              "    <tr style=\"text-align: right;\">\n",
              "      <th></th>\n",
              "      <th>Model</th>\n",
              "      <th>Epochs</th>\n",
              "      <th>Hidden Layers</th>\n",
              "      <th>Optimizer</th>\n",
              "      <th>Loss</th>\n",
              "      <th>Accuracy</th>\n",
              "    </tr>\n",
              "  </thead>\n",
              "  <tbody>\n",
              "    <tr>\n",
              "      <th>0</th>\n",
              "      <td>1</td>\n",
              "      <td>10</td>\n",
              "      <td>2</td>\n",
              "      <td>Adam</td>\n",
              "      <td>0.105052</td>\n",
              "      <td>0.9699</td>\n",
              "    </tr>\n",
              "    <tr>\n",
              "      <th>1</th>\n",
              "      <td>2</td>\n",
              "      <td>5</td>\n",
              "      <td>1</td>\n",
              "      <td>SGD</td>\n",
              "      <td>0.267958</td>\n",
              "      <td>0.9247</td>\n",
              "    </tr>\n",
              "    <tr>\n",
              "      <th>2</th>\n",
              "      <td>3</td>\n",
              "      <td>20</td>\n",
              "      <td>2</td>\n",
              "      <td>SGD</td>\n",
              "      <td>0.134427</td>\n",
              "      <td>0.9588</td>\n",
              "    </tr>\n",
              "    <tr>\n",
              "      <th>3</th>\n",
              "      <td>4</td>\n",
              "      <td>10</td>\n",
              "      <td>3</td>\n",
              "      <td>SGD</td>\n",
              "      <td>1.213973</td>\n",
              "      <td>0.4730</td>\n",
              "    </tr>\n",
              "  </tbody>\n",
              "</table>\n",
              "</div>\n",
              "      <button class=\"colab-df-convert\" onclick=\"convertToInteractive('df-8bcd7f08-a301-4371-a5eb-fe61b382dfba')\"\n",
              "              title=\"Convert this dataframe to an interactive table.\"\n",
              "              style=\"display:none;\">\n",
              "        \n",
              "  <svg xmlns=\"http://www.w3.org/2000/svg\" height=\"24px\"viewBox=\"0 0 24 24\"\n",
              "       width=\"24px\">\n",
              "    <path d=\"M0 0h24v24H0V0z\" fill=\"none\"/>\n",
              "    <path d=\"M18.56 5.44l.94 2.06.94-2.06 2.06-.94-2.06-.94-.94-2.06-.94 2.06-2.06.94zm-11 1L8.5 8.5l.94-2.06 2.06-.94-2.06-.94L8.5 2.5l-.94 2.06-2.06.94zm10 10l.94 2.06.94-2.06 2.06-.94-2.06-.94-.94-2.06-.94 2.06-2.06.94z\"/><path d=\"M17.41 7.96l-1.37-1.37c-.4-.4-.92-.59-1.43-.59-.52 0-1.04.2-1.43.59L10.3 9.45l-7.72 7.72c-.78.78-.78 2.05 0 2.83L4 21.41c.39.39.9.59 1.41.59.51 0 1.02-.2 1.41-.59l7.78-7.78 2.81-2.81c.8-.78.8-2.07 0-2.86zM5.41 20L4 18.59l7.72-7.72 1.47 1.35L5.41 20z\"/>\n",
              "  </svg>\n",
              "      </button>\n",
              "      \n",
              "  <style>\n",
              "    .colab-df-container {\n",
              "      display:flex;\n",
              "      flex-wrap:wrap;\n",
              "      gap: 12px;\n",
              "    }\n",
              "\n",
              "    .colab-df-convert {\n",
              "      background-color: #E8F0FE;\n",
              "      border: none;\n",
              "      border-radius: 50%;\n",
              "      cursor: pointer;\n",
              "      display: none;\n",
              "      fill: #1967D2;\n",
              "      height: 32px;\n",
              "      padding: 0 0 0 0;\n",
              "      width: 32px;\n",
              "    }\n",
              "\n",
              "    .colab-df-convert:hover {\n",
              "      background-color: #E2EBFA;\n",
              "      box-shadow: 0px 1px 2px rgba(60, 64, 67, 0.3), 0px 1px 3px 1px rgba(60, 64, 67, 0.15);\n",
              "      fill: #174EA6;\n",
              "    }\n",
              "\n",
              "    [theme=dark] .colab-df-convert {\n",
              "      background-color: #3B4455;\n",
              "      fill: #D2E3FC;\n",
              "    }\n",
              "\n",
              "    [theme=dark] .colab-df-convert:hover {\n",
              "      background-color: #434B5C;\n",
              "      box-shadow: 0px 1px 3px 1px rgba(0, 0, 0, 0.15);\n",
              "      filter: drop-shadow(0px 1px 2px rgba(0, 0, 0, 0.3));\n",
              "      fill: #FFFFFF;\n",
              "    }\n",
              "  </style>\n",
              "\n",
              "      <script>\n",
              "        const buttonEl =\n",
              "          document.querySelector('#df-8bcd7f08-a301-4371-a5eb-fe61b382dfba button.colab-df-convert');\n",
              "        buttonEl.style.display =\n",
              "          google.colab.kernel.accessAllowed ? 'block' : 'none';\n",
              "\n",
              "        async function convertToInteractive(key) {\n",
              "          const element = document.querySelector('#df-8bcd7f08-a301-4371-a5eb-fe61b382dfba');\n",
              "          const dataTable =\n",
              "            await google.colab.kernel.invokeFunction('convertToInteractive',\n",
              "                                                     [key], {});\n",
              "          if (!dataTable) return;\n",
              "\n",
              "          const docLinkHtml = 'Like what you see? Visit the ' +\n",
              "            '<a target=\"_blank\" href=https://colab.research.google.com/notebooks/data_table.ipynb>data table notebook</a>'\n",
              "            + ' to learn more about interactive tables.';\n",
              "          element.innerHTML = '';\n",
              "          dataTable['output_type'] = 'display_data';\n",
              "          await google.colab.output.renderOutput(dataTable, element);\n",
              "          const docLink = document.createElement('div');\n",
              "          docLink.innerHTML = docLinkHtml;\n",
              "          element.appendChild(docLink);\n",
              "        }\n",
              "      </script>\n",
              "    </div>\n",
              "  </div>\n",
              "  "
            ],
            "text/plain": [
              "   Model  Epochs  Hidden Layers Optimizer      Loss  Accuracy\n",
              "0      1      10              2      Adam  0.105052    0.9699\n",
              "1      2       5              1       SGD  0.267958    0.9247\n",
              "2      3      20              2       SGD  0.134427    0.9588\n",
              "3      4      10              3       SGD  1.213973    0.4730"
            ]
          },
          "execution_count": 35,
          "metadata": {},
          "output_type": "execute_result"
        }
      ],
      "source": [
        "import pandas as pd\n",
        "Model= [1,2,3,4]\n",
        "Epochs = [history1.epoch[-1]+1, history2.epoch[-1]+1, history3.epoch[-1]+1, history4.epoch[-1]+1]\n",
        "loss = [loss1, loss2, loss3,loss4]\n",
        "hidden_layers=[2, 1, 2,3]\n",
        "optimizer= [\"Adam\", \"SGD\", \"SGD\", \"SGD\"]\n",
        "accuracy=[accuracy1, accuracy2, accuracy3, accuracy4]\n",
        "data = {\"Model\": Model, \"Epochs\": Epochs, \"Hidden Layers\": hidden_layers, \"Optimizer\": optimizer,\"Loss\":loss,  \"Accuracy\":accuracy}\n",
        "pd.DataFrame(data)"
      ]
    },
    {
      "cell_type": "markdown",
      "metadata": {
        "id": "MZTM0UanoOrT"
      },
      "source": [
        "\n",
        "From the above table we can infer that Model 1 and Model 3 are better in terms of accuracy. They were trained on 10 and 20 epochs using Adam and Stochastic Gradient Descent Optimizer respectively. The loss of these two models is also comparatively low. Both the models were built using 2 hidden layers."
      ]
    },
    {
      "cell_type": "code",
      "source": [],
      "metadata": {
        "id": "xXopW_DAdNRw"
      },
      "execution_count": null,
      "outputs": []
    }
  ],
  "metadata": {
    "colab": {
      "provenance": []
    },
    "kernelspec": {
      "display_name": "Python 3",
      "name": "python3"
    },
    "language_info": {
      "name": "python"
    }
  },
  "nbformat": 4,
  "nbformat_minor": 0
}