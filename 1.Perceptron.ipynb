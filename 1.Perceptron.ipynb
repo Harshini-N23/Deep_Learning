{
  "nbformat": 4,
  "nbformat_minor": 0,
  "metadata": {
    "colab": {
      "provenance": []
    },
    "kernelspec": {
      "name": "python3",
      "display_name": "Python 3"
    },
    "language_info": {
      "name": "python"
    }
  },
  "cells": [
    {
      "cell_type": "markdown",
      "source": [
        "\n",
        "##  Program in Python to Calculate the Output of Simple Neuron using Python\n",
        "## Aim: To build a simple perceptron to predict  the transaction as Fraudelent or not"
      ],
      "metadata": {
        "id": "KjPiDIC4-MhL"
      }
    },
    {
      "cell_type": "code",
      "execution_count": null,
      "metadata": {
        "id": "QUAf44k8bj4k"
      },
      "outputs": [],
      "source": [
        "import numpy as np"
      ]
    },
    {
      "cell_type": "code",
      "source": [
        "#1 .Defining the input, target, weights, learning_rate\n",
        "X = np.array([[0,10,36],[0,12,100],[1,15,20],[0,16,5],[0,5,15]])\n",
        "y = np.array([[1],[1],[0],[0],[0]])\n",
        "weights = np.array([[.5], [.5], [.2]])\n",
        "alpha = 0.001\n",
        "print(\"Input:\\n \", X )\n",
        "print(\"\\nTarget:\\n \", y)\n",
        "print(\"\\nWeights:\\n \", weights)\n",
        "print(\"\\nAlpha: \", alpha)\n",
        "error = []\n",
        "\n",
        "# 2. New Test_data\n",
        "new_X = np.array([[5,10,5]])\n",
        "new_y = np.array([0])\n",
        "print(\"\\nTest_X: \\n \", new_X)\n",
        "print(\"\\nTest_y: \\n \", new_y)\n",
        "\n",
        "# 3. Threshold Value\n",
        "threshold = lambda z : 0 if z<0 else 1\n",
        "\n",
        "# 4. Calculating the Net Input\n",
        "z = np.sum(np.dot(X, weights))\n",
        "print(\"\\nNet Input: \", z)\n",
        "\n",
        "# 5. Calculating the error\n",
        "err = new_y - threshold(z)\n",
        "error.append(err)\n",
        "print(\"\\nError: \", err)\n",
        "\n",
        "# 6. Updating the weights\n",
        "weights += alpha* err * new_X.T\n",
        "print(\"\\nUpdated Weights:\\n \", weights)"
      ],
      "metadata": {
        "colab": {
          "base_uri": "https://localhost:8080/"
        },
        "id": "D1zUCWpRbqHV",
        "outputId": "c4c707d2-b4c1-47bc-f7f9-7e874cc7d68e"
      },
      "execution_count": null,
      "outputs": [
        {
          "output_type": "stream",
          "name": "stdout",
          "text": [
            "Input:\n",
            "  [[  0  10  36]\n",
            " [  0  12 100]\n",
            " [  1  15  20]\n",
            " [  0  16   5]\n",
            " [  0   5  15]]\n",
            "\n",
            "Target:\n",
            "  [[1]\n",
            " [1]\n",
            " [0]\n",
            " [0]\n",
            " [0]]\n",
            "\n",
            "Weights:\n",
            "  [[0.5]\n",
            " [0.5]\n",
            " [0.2]]\n",
            "\n",
            "Alpha:  0.001\n",
            "\n",
            "Test_X: \n",
            "  [[ 5 10  5]]\n",
            "\n",
            "Test_y: \n",
            "  [0]\n",
            "\n",
            "Net Input:  64.7\n",
            "\n",
            "Error:  [-1]\n",
            "\n",
            "Updated Weights:\n",
            "  [[0.495]\n",
            " [0.49 ]\n",
            " [0.195]]\n"
          ]
        }
      ]
    },
    {
      "cell_type": "code",
      "source": [
        "# Evaluation\n",
        "new_x = np.array([[5,10,5], [0,0,0],[12,10,36], [85,125,100]])\n",
        "new_yy = np.array([[0],[0],[1],[0]])\n",
        "for i, j in zip(new_x, new_yy):\n",
        "  res = np.dot(i, weights)\n",
        "  print(i, res, threshold(res))"
      ],
      "metadata": {
        "colab": {
          "base_uri": "https://localhost:8080/"
        },
        "id": "PwJkyddn4QkB",
        "outputId": "d31f2f4e-4823-4d52-f5f3-94d62538456d"
      },
      "execution_count": null,
      "outputs": [
        {
          "output_type": "stream",
          "name": "stdout",
          "text": [
            "[ 5 10  5] [8.35] 1\n",
            "[0 0 0] [0.] 1\n",
            "[12 10 36] [17.86] 1\n",
            "[ 85 125 100] [122.825] 1\n"
          ]
        }
      ]
    },
    {
      "cell_type": "markdown",
      "source": [
        "### Implementing using functions"
      ],
      "metadata": {
        "id": "-O5vcVMUDmej"
      }
    },
    {
      "cell_type": "markdown",
      "source": [
        "Creating a numpy array of 5 rows and three features depicting the transactions outside US, Transactions done within 12 hours and the amount of transaction.\n",
        "Target Variable is a binary class where 1 represents Fraudulent Transaction and 0 represents non-fraudulent transaction."
      ],
      "metadata": {
        "id": "q8eTj_OOcqaS"
      }
    },
    {
      "cell_type": "code",
      "source": [
        "input = np.array([[0,10,36],[0,12,100],[1,15,20],[0,16,5],[0,5,15]])\n",
        "target = np.array([[1],[1],[0],[0],[0]])"
      ],
      "metadata": {
        "id": "3OhIgE4k4Qds"
      },
      "execution_count": null,
      "outputs": []
    },
    {
      "cell_type": "code",
      "source": [
        "class Perceptron:\n",
        "  def __init__(self, input, target):\n",
        "    self.input =input\n",
        "    self.target =target\n",
        "    self.weights = np.array([[0.2],[0.2], [0.2]])\n",
        "    self.error_list = []\n",
        "    self.alpha1 = 0.001\n",
        "    self.epochs =25000\n",
        "    self.epoch_list =[]\n",
        "    self.accuracy_list =[]\n",
        "\n",
        "  def net_input(self):\n",
        "    self.z = np.sum(np.dot(self.input, self.weights))+1\n",
        "    return (self.z)\n",
        "\n",
        "  def threshold(self, z):\n",
        "     return np.where(self.z>= 0, 1, -1)\n",
        "\n",
        "  def updation(self):\n",
        "    self.err = self.target - self.z\n",
        "    self.weights =self.weights + np.dot(self.input.T,self.alpha1)\n",
        "    return self.weights\n",
        "\n",
        "  def train(self):\n",
        "    for i in range(self.epochs):\n",
        "      self.net_input()\n",
        "      self.updation()\n",
        "      self.error_list.append(np.average(self.err))\n",
        "      self.epoch_list.append(self.epochs)\n",
        "\n",
        "  def test(self, new_inputs):\n",
        "    result = np.dot(new_inputs, self.weights)\n",
        "    return self.threshold(result)\n",
        "\n",
        "  def score(self):\n",
        "   misclassified = 0\n",
        "   for i in range(50):\n",
        "      for xi, target in zip(self.input, self.target):\n",
        "        output =self.threshold(xi)\n",
        "        if target!=output:\n",
        "          misclassified+=1\n",
        "          total_data = len(self.input)\n",
        "          self.accuracy =(total_data-misclassified)/total_data\n",
        "          self.accuracy_list.append(self.accuracy)\n",
        "      return self.accuracy"
      ],
      "metadata": {
        "id": "evOWIgmq4Qa1"
      },
      "execution_count": null,
      "outputs": []
    },
    {
      "cell_type": "markdown",
      "source": [
        "We are testing the perceptron on the new test data, which are passed as the parameters to the test() function."
      ],
      "metadata": {
        "id": "j2NxA3RYgE6t"
      }
    },
    {
      "cell_type": "markdown",
      "source": [
        "The Actual Output of the two new records was 1 and 0 respectively. But the predicted output of both is 1."
      ],
      "metadata": {
        "id": "NveNAuyYgCcY"
      }
    },
    {
      "cell_type": "code",
      "source": [
        "P =Perceptron(input, target)\n",
        "P.train()\n",
        "inp1 = np.array([5,10,5])\n",
        "inp2 = np.array([12,10,36])\n",
        "print(\"Predicted: \", P.test(inp1), \"Actual: 1\")\n",
        "print(\"Predicted: \", P.test(inp2), \"Actual: 0\")\n",
        "\n",
        "\n"
      ],
      "metadata": {
        "colab": {
          "base_uri": "https://localhost:8080/"
        },
        "id": "Nk1P4sKw4QXy",
        "outputId": "0b6acf7a-4258-4e9d-8f7e-d02fdf726623"
      },
      "execution_count": null,
      "outputs": [
        {
          "output_type": "stream",
          "name": "stdout",
          "text": [
            "Predicted:  1 Actual: 1\n",
            "Predicted:  1 Actual: 0\n"
          ]
        }
      ]
    },
    {
      "cell_type": "markdown",
      "source": [
        "The updated weights"
      ],
      "metadata": {
        "id": "lrNCWk6WgpB-"
      }
    },
    {
      "cell_type": "code",
      "source": [
        "print(\"Weights: \", P.updation())"
      ],
      "metadata": {
        "colab": {
          "base_uri": "https://localhost:8080/"
        },
        "id": "gBWTMH0Gf6IW",
        "outputId": "ce08bcea-7a8c-40ee-f7d6-b523401fb5d1"
      },
      "execution_count": null,
      "outputs": [
        {
          "output_type": "stream",
          "name": "stdout",
          "text": [
            "Weights:  [[2.00000e-01 2.00000e-01 2.52010e+01 2.00000e-01 2.00000e-01]\n",
            " [2.50210e+02 3.00212e+02 3.75215e+02 4.00216e+02 1.25205e+02]\n",
            " [9.00236e+02 2.50030e+03 5.00220e+02 1.25205e+02 3.75215e+02]]\n"
          ]
        }
      ]
    },
    {
      "cell_type": "markdown",
      "source": [
        "The Score of the model is calculated by taking number of misclassified points divided by the total number of data points."
      ],
      "metadata": {
        "id": "lmb9vnD2gsct"
      }
    },
    {
      "cell_type": "code",
      "source": [
        "print(\"Accuracy: \", P.score())"
      ],
      "metadata": {
        "colab": {
          "base_uri": "https://localhost:8080/"
        },
        "id": "zIaxsPTHf6YI",
        "outputId": "5437f445-2f33-41b1-fd6c-5d2308c2e4c1"
      },
      "execution_count": null,
      "outputs": [
        {
          "output_type": "stream",
          "name": "stdout",
          "text": [
            "Accuracy:  0.4\n"
          ]
        }
      ]
    },
    {
      "cell_type": "markdown",
      "source": [
        "Plot of Error and Epochs"
      ],
      "metadata": {
        "id": "6EvTZ3mjhDu7"
      }
    },
    {
      "cell_type": "code",
      "source": [
        "import matplotlib.pyplot as plt\n",
        "plt.plot(P.error_list)\n",
        "plt.xlabel(\"Epoch\")\n",
        "plt.ylabel(\"Error\")\n",
        "plt.show()"
      ],
      "metadata": {
        "colab": {
          "base_uri": "https://localhost:8080/",
          "height": 279
        },
        "id": "F4av2-dK4QU1",
        "outputId": "14e8af7e-06c7-429a-f358-807f0dc073fc"
      },
      "execution_count": null,
      "outputs": [
        {
          "output_type": "display_data",
          "data": {
            "text/plain": [
              "<Figure size 432x288 with 1 Axes>"
            ],
            "image/png": "[encoded data removed]"
          },
          "metadata": {
            "needs_background": "light"
          }
        }
      ]
    },
    {
      "cell_type": "markdown",
      "source": [
        "Conclusion: We have built a simple perceptron model by training the model on 5 records and testing it on 2 records. For 50 epochs, the accuracy score is 0.4. we can see the decrease in the error as the number of epochs increases."
      ],
      "metadata": {
        "id": "wA1srYiWhQ5L"
      }
    }
  ]
}