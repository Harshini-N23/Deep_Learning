{
  "cells": [
    {
      "cell_type": "markdown",
      "metadata": {
        "id": "JjCdIatVmibQ"
      },
      "source": [
        "\n",
        "## Implement a Convolution Neural Network for numerical data and test for overfitting.\n",
        "\n",
        "## Aim: To Implement a Convolution Neural Network for 1-Dimensional Data\n",
        "### Objective: To analyse if the model is overfitting and implement the various regularization techniques to avoid overfiiting. And,Compare which regularization technique is the best for the give model.\n",
        "\n",
        "# Dataset: Randomly generated data using make_classification module"
      ]
    },
    {
      "cell_type": "code",
      "execution_count": null,
      "metadata": {
        "id": "gqbW7ZVZwIe0"
      },
      "outputs": [],
      "source": [
        "from sklearn.datasets import make_classification\n",
        "import pandas as pd\n",
        "import matplotlib.pyplot as plt"
      ]
    },
    {
      "cell_type": "code",
      "execution_count": null,
      "metadata": {
        "id": "aGOgg77SxZPY"
      },
      "outputs": [],
      "source": [
        "variables, target =make_classification(n_samples = 1000, n_features=12, n_classes=2, random_state=42)"
      ]
    },
    {
      "cell_type": "code",
      "execution_count": null,
      "metadata": {
        "id": "lA0_pmdKxl10"
      },
      "outputs": [],
      "source": [
        "features =pd.DataFrame(variables)\n",
        "features.columns=[\"column \"+ str(i) for i in range(variables.shape[1])]"
      ]
    },
    {
      "cell_type": "code",
      "execution_count": null,
      "metadata": {
        "colab": {
          "base_uri": "https://localhost:8080/",
          "height": 423
        },
        "id": "Q2ZVu1v8xpMz",
        "outputId": "cb805a2b-83ae-4178-fcba-15979375bc9e"
      },
      "outputs": [
        {
          "output_type": "execute_result",
          "data": {
            "text/plain": [
              "     column 0  column 1  column 2  column 3  column 4  column 5  column 6  \\\n",
              "0   -2.050321  1.343995 -1.269471  0.408653 -1.776235 -1.522359 -1.029372   \n",
              "1   -0.420747  0.339269 -0.587236 -0.814686 -1.018805  2.165521 -0.455342   \n",
              "2   -1.216192  0.304284  1.784577  1.687548 -1.039111 -0.628149  0.245114   \n",
              "3    0.314983 -0.241559  0.375642 -0.648999  0.265164 -1.081413  0.883607   \n",
              "4   -0.729670  0.248061  0.733484 -1.627312 -0.300826 -0.728959  0.186990   \n",
              "..        ...       ...       ...       ...       ...       ...       ...   \n",
              "995 -1.963526  0.826134  1.157283  0.294719 -0.244028 -0.886040  0.693218   \n",
              "996 -1.412515  0.796509 -0.208423  0.839349  1.393181 -0.079388  0.872824   \n",
              "997 -1.095660  0.134351  2.327273  1.353454  1.607915  0.291379  1.346572   \n",
              "998 -1.665910  1.142580 -1.291783  0.148089  0.367620  1.186735 -0.881068   \n",
              "999  1.667750 -1.238737  1.781716 -0.761941  0.435948  0.790759 -0.141709   \n",
              "\n",
              "     column 7  column 8  column 9  column 10  column 11  \n",
              "0    1.112688  1.417767 -0.629263  -1.352670   1.533728  \n",
              "1    1.054621  0.424709  1.024774  -0.353859   1.168580  \n",
              "2    1.286382 -0.197959 -0.257052   0.726794   0.277553  \n",
              "3    0.335847 -0.291755  0.516397  -1.366198  -1.245051  \n",
              "4   -0.189014  0.019287  0.180295  -0.044273  -0.814868  \n",
              "..        ...       ...       ...        ...        ...  \n",
              "995 -0.332579  0.386193  0.703140  -2.027677   2.498430  \n",
              "996 -0.300466  0.704001 -1.005601  -0.966157   0.360164  \n",
              "997  0.032185 -0.472941  0.872817   1.443670   0.732081  \n",
              "998  1.436335  1.258534 -0.238110  -0.712221   0.046003  \n",
              "999 -0.022030 -1.459928 -1.768131   0.877826   2.992811  \n",
              "\n",
              "[1000 rows x 12 columns]"
            ],
            "text/html": [
              "\n",
              "  <div id=\"df-5ebb115a-0888-4007-979d-0c16c535b211\">\n",
              "    <div class=\"colab-df-container\">\n",
              "      <div>\n",
              "<style scoped>\n",
              "    .dataframe tbody tr th:only-of-type {\n",
              "        vertical-align: middle;\n",
              "    }\n",
              "\n",
              "    .dataframe tbody tr th {\n",
              "        vertical-align: top;\n",
              "    }\n",
              "\n",
              "    .dataframe thead th {\n",
              "        text-align: right;\n",
              "    }\n",
              "</style>\n",
              "<table border=\"1\" class=\"dataframe\">\n",
              "  <thead>\n",
              "    <tr style=\"text-align: right;\">\n",
              "      <th></th>\n",
              "      <th>column 0</th>\n",
              "      <th>column 1</th>\n",
              "      <th>column 2</th>\n",
              "      <th>column 3</th>\n",
              "      <th>column 4</th>\n",
              "      <th>column 5</th>\n",
              "      <th>column 6</th>\n",
              "      <th>column 7</th>\n",
              "      <th>column 8</th>\n",
              "      <th>column 9</th>\n",
              "      <th>column 10</th>\n",
              "      <th>column 11</th>\n",
              "    </tr>\n",
              "  </thead>\n",
              "  <tbody>\n",
              "    <tr>\n",
              "      <th>0</th>\n",
              "      <td>-2.050321</td>\n",
              "      <td>1.343995</td>\n",
              "      <td>-1.269471</td>\n",
              "      <td>0.408653</td>\n",
              "      <td>-1.776235</td>\n",
              "      <td>-1.522359</td>\n",
              "      <td>-1.029372</td>\n",
              "      <td>1.112688</td>\n",
              "      <td>1.417767</td>\n",
              "      <td>-0.629263</td>\n",
              "      <td>-1.352670</td>\n",
              "      <td>1.533728</td>\n",
              "    </tr>\n",
              "    <tr>\n",
              "      <th>1</th>\n",
              "      <td>-0.420747</td>\n",
              "      <td>0.339269</td>\n",
              "      <td>-0.587236</td>\n",
              "      <td>-0.814686</td>\n",
              "      <td>-1.018805</td>\n",
              "      <td>2.165521</td>\n",
              "      <td>-0.455342</td>\n",
              "      <td>1.054621</td>\n",
              "      <td>0.424709</td>\n",
              "      <td>1.024774</td>\n",
              "      <td>-0.353859</td>\n",
              "      <td>1.168580</td>\n",
              "    </tr>\n",
              "    <tr>\n",
              "      <th>2</th>\n",
              "      <td>-1.216192</td>\n",
              "      <td>0.304284</td>\n",
              "      <td>1.784577</td>\n",
              "      <td>1.687548</td>\n",
              "      <td>-1.039111</td>\n",
              "      <td>-0.628149</td>\n",
              "      <td>0.245114</td>\n",
              "      <td>1.286382</td>\n",
              "      <td>-0.197959</td>\n",
              "      <td>-0.257052</td>\n",
              "      <td>0.726794</td>\n",
              "      <td>0.277553</td>\n",
              "    </tr>\n",
              "    <tr>\n",
              "      <th>3</th>\n",
              "      <td>0.314983</td>\n",
              "      <td>-0.241559</td>\n",
              "      <td>0.375642</td>\n",
              "      <td>-0.648999</td>\n",
              "      <td>0.265164</td>\n",
              "      <td>-1.081413</td>\n",
              "      <td>0.883607</td>\n",
              "      <td>0.335847</td>\n",
              "      <td>-0.291755</td>\n",
              "      <td>0.516397</td>\n",
              "      <td>-1.366198</td>\n",
              "      <td>-1.245051</td>\n",
              "    </tr>\n",
              "    <tr>\n",
              "      <th>4</th>\n",
              "      <td>-0.729670</td>\n",
              "      <td>0.248061</td>\n",
              "      <td>0.733484</td>\n",
              "      <td>-1.627312</td>\n",
              "      <td>-0.300826</td>\n",
              "      <td>-0.728959</td>\n",
              "      <td>0.186990</td>\n",
              "      <td>-0.189014</td>\n",
              "      <td>0.019287</td>\n",
              "      <td>0.180295</td>\n",
              "      <td>-0.044273</td>\n",
              "      <td>-0.814868</td>\n",
              "    </tr>\n",
              "    <tr>\n",
              "      <th>...</th>\n",
              "      <td>...</td>\n",
              "      <td>...</td>\n",
              "      <td>...</td>\n",
              "      <td>...</td>\n",
              "      <td>...</td>\n",
              "      <td>...</td>\n",
              "      <td>...</td>\n",
              "      <td>...</td>\n",
              "      <td>...</td>\n",
              "      <td>...</td>\n",
              "      <td>...</td>\n",
              "      <td>...</td>\n",
              "    </tr>\n",
              "    <tr>\n",
              "      <th>995</th>\n",
              "      <td>-1.963526</td>\n",
              "      <td>0.826134</td>\n",
              "      <td>1.157283</td>\n",
              "      <td>0.294719</td>\n",
              "      <td>-0.244028</td>\n",
              "      <td>-0.886040</td>\n",
              "      <td>0.693218</td>\n",
              "      <td>-0.332579</td>\n",
              "      <td>0.386193</td>\n",
              "      <td>0.703140</td>\n",
              "      <td>-2.027677</td>\n",
              "      <td>2.498430</td>\n",
              "    </tr>\n",
              "    <tr>\n",
              "      <th>996</th>\n",
              "      <td>-1.412515</td>\n",
              "      <td>0.796509</td>\n",
              "      <td>-0.208423</td>\n",
              "      <td>0.839349</td>\n",
              "      <td>1.393181</td>\n",
              "      <td>-0.079388</td>\n",
              "      <td>0.872824</td>\n",
              "      <td>-0.300466</td>\n",
              "      <td>0.704001</td>\n",
              "      <td>-1.005601</td>\n",
              "      <td>-0.966157</td>\n",
              "      <td>0.360164</td>\n",
              "    </tr>\n",
              "    <tr>\n",
              "      <th>997</th>\n",
              "      <td>-1.095660</td>\n",
              "      <td>0.134351</td>\n",
              "      <td>2.327273</td>\n",
              "      <td>1.353454</td>\n",
              "      <td>1.607915</td>\n",
              "      <td>0.291379</td>\n",
              "      <td>1.346572</td>\n",
              "      <td>0.032185</td>\n",
              "      <td>-0.472941</td>\n",
              "      <td>0.872817</td>\n",
              "      <td>1.443670</td>\n",
              "      <td>0.732081</td>\n",
              "    </tr>\n",
              "    <tr>\n",
              "      <th>998</th>\n",
              "      <td>-1.665910</td>\n",
              "      <td>1.142580</td>\n",
              "      <td>-1.291783</td>\n",
              "      <td>0.148089</td>\n",
              "      <td>0.367620</td>\n",
              "      <td>1.186735</td>\n",
              "      <td>-0.881068</td>\n",
              "      <td>1.436335</td>\n",
              "      <td>1.258534</td>\n",
              "      <td>-0.238110</td>\n",
              "      <td>-0.712221</td>\n",
              "      <td>0.046003</td>\n",
              "    </tr>\n",
              "    <tr>\n",
              "      <th>999</th>\n",
              "      <td>1.667750</td>\n",
              "      <td>-1.238737</td>\n",
              "      <td>1.781716</td>\n",
              "      <td>-0.761941</td>\n",
              "      <td>0.435948</td>\n",
              "      <td>0.790759</td>\n",
              "      <td>-0.141709</td>\n",
              "      <td>-0.022030</td>\n",
              "      <td>-1.459928</td>\n",
              "      <td>-1.768131</td>\n",
              "      <td>0.877826</td>\n",
              "      <td>2.992811</td>\n",
              "    </tr>\n",
              "  </tbody>\n",
              "</table>\n",
              "<p>1000 rows × 12 columns</p>\n",
              "</div>\n",
              "      <button class=\"colab-df-convert\" onclick=\"convertToInteractive('df-5ebb115a-0888-4007-979d-0c16c535b211')\"\n",
              "              title=\"Convert this dataframe to an interactive table.\"\n",
              "              style=\"display:none;\">\n",
              "        \n",
              "  <svg xmlns=\"http://www.w3.org/2000/svg\" height=\"24px\"viewBox=\"0 0 24 24\"\n",
              "       width=\"24px\">\n",
              "    <path d=\"M0 0h24v24H0V0z\" fill=\"none\"/>\n",
              "    <path d=\"M18.56 5.44l.94 2.06.94-2.06 2.06-.94-2.06-.94-.94-2.06-.94 2.06-2.06.94zm-11 1L8.5 8.5l.94-2.06 2.06-.94-2.06-.94L8.5 2.5l-.94 2.06-2.06.94zm10 10l.94 2.06.94-2.06 2.06-.94-2.06-.94-.94-2.06-.94 2.06-2.06.94z\"/><path d=\"M17.41 7.96l-1.37-1.37c-.4-.4-.92-.59-1.43-.59-.52 0-1.04.2-1.43.59L10.3 9.45l-7.72 7.72c-.78.78-.78 2.05 0 2.83L4 21.41c.39.39.9.59 1.41.59.51 0 1.02-.2 1.41-.59l7.78-7.78 2.81-2.81c.8-.78.8-2.07 0-2.86zM5.41 20L4 18.59l7.72-7.72 1.47 1.35L5.41 20z\"/>\n",
              "  </svg>\n",
              "      </button>\n",
              "      \n",
              "  <style>\n",
              "    .colab-df-container {\n",
              "      display:flex;\n",
              "      flex-wrap:wrap;\n",
              "      gap: 12px;\n",
              "    }\n",
              "\n",
              "    .colab-df-convert {\n",
              "      background-color: #E8F0FE;\n",
              "      border: none;\n",
              "      border-radius: 50%;\n",
              "      cursor: pointer;\n",
              "      display: none;\n",
              "      fill: #1967D2;\n",
              "      height: 32px;\n",
              "      padding: 0 0 0 0;\n",
              "      width: 32px;\n",
              "    }\n",
              "\n",
              "    .colab-df-convert:hover {\n",
              "      background-color: #E2EBFA;\n",
              "      box-shadow: 0px 1px 2px rgba(60, 64, 67, 0.3), 0px 1px 3px 1px rgba(60, 64, 67, 0.15);\n",
              "      fill: #174EA6;\n",
              "    }\n",
              "\n",
              "    [theme=dark] .colab-df-convert {\n",
              "      background-color: #3B4455;\n",
              "      fill: #D2E3FC;\n",
              "    }\n",
              "\n",
              "    [theme=dark] .colab-df-convert:hover {\n",
              "      background-color: #434B5C;\n",
              "      box-shadow: 0px 1px 3px 1px rgba(0, 0, 0, 0.15);\n",
              "      filter: drop-shadow(0px 1px 2px rgba(0, 0, 0, 0.3));\n",
              "      fill: #FFFFFF;\n",
              "    }\n",
              "  </style>\n",
              "\n",
              "      <script>\n",
              "        const buttonEl =\n",
              "          document.querySelector('#df-5ebb115a-0888-4007-979d-0c16c535b211 button.colab-df-convert');\n",
              "        buttonEl.style.display =\n",
              "          google.colab.kernel.accessAllowed ? 'block' : 'none';\n",
              "\n",
              "        async function convertToInteractive(key) {\n",
              "          const element = document.querySelector('#df-5ebb115a-0888-4007-979d-0c16c535b211');\n",
              "          const dataTable =\n",
              "            await google.colab.kernel.invokeFunction('convertToInteractive',\n",
              "                                                     [key], {});\n",
              "          if (!dataTable) return;\n",
              "\n",
              "          const docLinkHtml = 'Like what you see? Visit the ' +\n",
              "            '<a target=\"_blank\" href=https://colab.research.google.com/notebooks/data_table.ipynb>data table notebook</a>'\n",
              "            + ' to learn more about interactive tables.';\n",
              "          element.innerHTML = '';\n",
              "          dataTable['output_type'] = 'display_data';\n",
              "          await google.colab.output.renderOutput(dataTable, element);\n",
              "          const docLink = document.createElement('div');\n",
              "          docLink.innerHTML = docLinkHtml;\n",
              "          element.appendChild(docLink);\n",
              "        }\n",
              "      </script>\n",
              "    </div>\n",
              "  </div>\n",
              "  "
            ]
          },
          "metadata": {},
          "execution_count": 4
        }
      ],
      "source": [
        "features"
      ]
    },
    {
      "cell_type": "code",
      "execution_count": null,
      "metadata": {
        "id": "zfYYPi0Qxp8s"
      },
      "outputs": [],
      "source": [
        "target= pd.DataFrame(target)"
      ]
    },
    {
      "cell_type": "code",
      "source": [
        "X = features.values\n",
        "X= X.reshape(X.shape[0], X.shape[1],1)\n",
        "X.shape"
      ],
      "metadata": {
        "colab": {
          "base_uri": "https://localhost:8080/"
        },
        "id": "8jqy98J6_dAX",
        "outputId": "88f7ce9f-2d53-4ef3-8596-f1f993589305"
      },
      "execution_count": null,
      "outputs": [
        {
          "output_type": "execute_result",
          "data": {
            "text/plain": [
              "(1000, 12, 1)"
            ]
          },
          "metadata": {},
          "execution_count": 14
        }
      ]
    },
    {
      "cell_type": "code",
      "execution_count": null,
      "metadata": {
        "id": "nWqevKZ-ymdi"
      },
      "outputs": [],
      "source": [
        "X = features.values\n",
        "y = target.values\n",
        "X= X.reshape(X.shape[0], X.shape[1],1)"
      ]
    },
    {
      "cell_type": "code",
      "execution_count": null,
      "metadata": {
        "id": "farnZqpxy24v"
      },
      "outputs": [],
      "source": [
        "from sklearn.model_selection import train_test_split\n",
        "X_train, X_test, y_train,y_test =train_test_split(X,y, test_size=0.20, random_state=42)\n",
        "X_train, X_val, y_train,y_val=train_test_split(X_train, y_train, test_size=0.20, random_state=42)"
      ]
    },
    {
      "cell_type": "code",
      "execution_count": null,
      "metadata": {
        "colab": {
          "base_uri": "https://localhost:8080/"
        },
        "id": "LejNCMZsztOJ",
        "outputId": "8a23e66d-6ece-4f51-97e1-026b2564aede"
      },
      "outputs": [
        {
          "data": {
            "text/plain": [
              "((640, 12, 1), (640, 1), (200, 12, 1), (200, 1))"
            ]
          },
          "execution_count": 8,
          "metadata": {},
          "output_type": "execute_result"
        }
      ],
      "source": [
        "X_train.shape, y_train.shape, X_test.shape, y_test.shape"
      ]
    },
    {
      "cell_type": "code",
      "execution_count": null,
      "metadata": {
        "id": "2Ry2J1FDzVyu"
      },
      "outputs": [],
      "source": [
        "import tensorflow as tf\n",
        "from tensorflow.keras.models import Sequential\n",
        "from tensorflow.keras.layers import Dense, Flatten\n",
        "from keras.layers.convolutional import Conv1D\n",
        "from sklearn.model_selection import train_test_split\n",
        "from keras import regularizers"
      ]
    },
    {
      "cell_type": "markdown",
      "metadata": {
        "id": "lIsqoOEDTlDX"
      },
      "source": [
        "* In the CNN model we have used \"Binary Cross Entropy\" as the loss function and \"Adam\" as the optimizer. We have trained the model on 400 epochs."
      ]
    },
    {
      "cell_type": "code",
      "source": [],
      "metadata": {
        "id": "SZv1sB_WLVPy"
      },
      "execution_count": null,
      "outputs": []
    },
    {
      "cell_type": "code",
      "execution_count": null,
      "metadata": {
        "colab": {
          "base_uri": "https://localhost:8080/"
        },
        "id": "UaBuyHdHzm2-",
        "outputId": "ea2e567d-90cf-452c-eeb9-bbb43cd0af6b"
      },
      "outputs": [
        {
          "name": "stdout",
          "output_type": "stream",
          "text": [
            "7/7 [==============================] - 0s 3ms/step - loss: 1.0306 - accuracy: 0.4600\n",
            "Loss:  1.03 Accuracy:  0.46\n"
          ]
        }
      ],
      "source": [
        "model = Sequential()\n",
        "model.add(Conv1D(64,3, input_shape=(12,1), activation='relu'))\n",
        "model.add(Dense(100, activation =\"relu\"))\n",
        "model.add(Flatten())\n",
        "model.add(Dense(1, activation='softmax'))\n",
        "model.compile(loss='binary_crossentropy',\n",
        "              optimizer='adam',\n",
        "              metrics=['accuracy'])\n",
        "\n",
        "history = model.fit(X_train, y_train,\n",
        "                    validation_data=(X_test, y_test),\n",
        "                    epochs=400, verbose=0)\n",
        "lossO, accuracyO = model.evaluate(X_test, y_test)\n",
        "print(\"Loss: \", round(lossO,2), \"Accuracy: \",\"%.2f\"%accuracyO)"
      ]
    },
    {
      "cell_type": "code",
      "execution_count": null,
      "metadata": {
        "colab": {
          "base_uri": "https://localhost:8080/",
          "height": 279
        },
        "id": "ucx2CiVqz6rP",
        "outputId": "e468239e-0ce8-421e-8444-211b0e5241a8"
      },
      "outputs": [
        {
          "data": {
            "image/png": "[encoded data removed]",
            "text/plain": [
              "<Figure size 432x288 with 1 Axes>"
            ]
          },
          "metadata": {},
          "output_type": "display_data"
        }
      ],
      "source": [
        "def plot_loss(history):\n",
        "  plt.plot(history.history['loss'], label='Train')\n",
        "  plt.plot(history.history['val_loss'], label='Test')\n",
        "  plt.xlabel('Epoch')\n",
        "  plt.ylabel('Error')\n",
        "  plt.legend()\n",
        "  plt.grid(True)\n",
        "plot_loss(history)"
      ]
    },
    {
      "cell_type": "markdown",
      "metadata": {
        "id": "chW1vSVjTgFd"
      },
      "source": [
        "* Here, in the above graph we can see that the test error > train error leading the model to overfit\n",
        "* Reducing the overfitting through Regularization, Drop Out and Early Stopping"
      ]
    },
    {
      "cell_type": "markdown",
      "metadata": {
        "id": "pgYBlAFJ1LbR"
      },
      "source": [
        "# Regularized Model"
      ]
    },
    {
      "cell_type": "code",
      "execution_count": null,
      "metadata": {
        "colab": {
          "background_save": true
        },
        "id": "u1cK-dnN0f7B",
        "outputId": "000d491a-7f0c-41de-8219-56b0a3c9cc9e"
      },
      "outputs": [
        {
          "name": "stdout",
          "output_type": "stream",
          "text": [
            "7/7 [==============================] - 0s 3ms/step - loss: 0.3107 - accuracy: 0.4600\n",
            "Loss:  0.31 Accuracy:  0.46\n"
          ]
        }
      ],
      "source": [
        "model1 = Sequential()\n",
        "model1.add(Conv1D(64,3, input_shape=(12,1), activation='relu'))\n",
        "model1.add(Dense(100, activation =\"relu\",  kernel_regularizer=regularizers.l2(0.005)))\n",
        "model1.add(Flatten())\n",
        "model1.add(Dense(1, activation='softmax', kernel_regularizer=regularizers.l2(0.005)))\n",
        "model1.compile(loss='binary_crossentropy',\n",
        "              optimizer='adam',\n",
        "              metrics=['accuracy'])\n",
        "\n",
        "history1 = model1.fit(X_train, y_train,\n",
        "                     validation_data=(X_val, y_val),\n",
        "                    epochs=400, verbose=0)\n",
        "loss1, accuracy1 = model1.evaluate(X_test, y_test)\n",
        "print(\"Loss: \", round(loss1,2), \"Accuracy: \",\"%.2f\"%accuracy1)"
      ]
    },
    {
      "cell_type": "code",
      "execution_count": null,
      "metadata": {
        "colab": {
          "background_save": true
        },
        "id": "XpxGTHpR2K0X",
        "outputId": "c510de1b-94c8-4de1-aa00-c78bc205f92f"
      },
      "outputs": [
        {
          "data": {
            "image/png": "[encoded data removed]",
            "text/plain": [
              "<Figure size 432x288 with 1 Axes>"
            ]
          },
          "metadata": {},
          "output_type": "display_data"
        }
      ],
      "source": [
        "plot_loss(history1)"
      ]
    },
    {
      "cell_type": "markdown",
      "metadata": {
        "id": "82ugsyDATcRe"
      },
      "source": [
        "* The test error has reduced drastically with L2 regularization technique"
      ]
    },
    {
      "cell_type": "code",
      "execution_count": null,
      "metadata": {
        "id": "UuCt_ftD4EiB"
      },
      "outputs": [],
      "source": [
        "model2 = Sequential()\n",
        "model2.add(Conv1D(64,3, input_shape=(12,1), activation='relu'))\n",
        "model2.add(Dense(100, activation =\"relu\",  kernel_regularizer=regularizers.l1(0.001)))\n",
        "model2.add(Flatten())\n",
        "model2.add(Dense(1, activation='softmax', kernel_regularizer=regularizers.l1(0.001)))\n",
        "model2.compile(loss='binary_crossentropy',\n",
        "              optimizer='adam',\n",
        "              metrics=['accuracy'])\n",
        "\n",
        "history2 = model2.fit(X_train, y_train,\n",
        "                    validation_data=(X_val, y_val),\n",
        "                    epochs=250, verbose=0)\n",
        "loss2, accuracy2 = model2.evaluate(X_test, y_test)\n",
        "print(\"Loss: \", round(loss2,2), \"Accuracy: \",\"%.2f\"%accuracy2)\n",
        "plot_loss(history2)"
      ]
    },
    {
      "cell_type": "markdown",
      "metadata": {
        "id": "-g16XbAxTWIK"
      },
      "source": [
        "* The Train and test error are approximately equal when we used the L1 regularization technique"
      ]
    },
    {
      "cell_type": "markdown",
      "metadata": {
        "id": "NTIujUH75yOD"
      },
      "source": [
        "# Drop Out"
      ]
    },
    {
      "cell_type": "code",
      "execution_count": null,
      "metadata": {
        "id": "fVZLekLG560y"
      },
      "outputs": [],
      "source": [
        "from tensorflow.keras.layers import Dropout"
      ]
    },
    {
      "cell_type": "code",
      "execution_count": null,
      "metadata": {
        "colab": {
          "background_save": true
        },
        "id": "7lGEmy1f4hoP",
        "outputId": "84c52bed-c69d-401c-fca2-f128f4860422"
      },
      "outputs": [
        {
          "name": "stdout",
          "output_type": "stream",
          "text": [
            "7/7 [==============================] - 0s 3ms/step - loss: 0.2578 - accuracy: 0.4600\n",
            "Loss:  0.26 Accuracy:  0.46\n"
          ]
        },
        {
          "data": {
            "image/png": "[encoded data removed]",
            "text/plain": [
              "<Figure size 432x288 with 1 Axes>"
            ]
          },
          "metadata": {},
          "output_type": "display_data"
        }
      ],
      "source": [
        "model3 = Sequential()\n",
        "model3.add(Conv1D(64,3, input_shape=(12,1), activation='relu'))\n",
        "model3.add(Dropout(0.5))\n",
        "model3.add(Dense(100, activation =\"relu\"))\n",
        "model3.add(Dropout(0.6))\n",
        "model3.add(Flatten())\n",
        "model3.add(Dense(1, activation='softmax'))\n",
        "\n",
        "model3.compile(loss='binary_crossentropy',\n",
        "              optimizer='adam',\n",
        "              metrics=['accuracy'])\n",
        "\n",
        "history3 = model3.fit(X_train, y_train,\n",
        "                    validation_data=(X_val, y_val),\n",
        "                    epochs=450, verbose=0)\n",
        "loss3, accuracy3= model3.evaluate(X_test, y_test)\n",
        "print(\"Loss: \", round(loss3,2), \"Accuracy: \",\"%.2f\"%accuracy3)\n",
        "plot_loss(history3)"
      ]
    },
    {
      "cell_type": "markdown",
      "metadata": {
        "id": "U1yYSz4pTPgL"
      },
      "source": [
        "* When we used dropout method, it resulted in the train error and the test error being approximately same"
      ]
    },
    {
      "cell_type": "markdown",
      "metadata": {
        "id": "QXjld-haJxi1"
      },
      "source": [
        "# Early Stopping"
      ]
    },
    {
      "cell_type": "code",
      "execution_count": null,
      "metadata": {
        "colab": {
          "background_save": true
        },
        "id": "ZMmiZHEc6grK",
        "outputId": "4b734380-ca95-4859-b993-6a048d7a1f49"
      },
      "outputs": [
        {
          "data": {
            "image/png": "[encoded data removed]",
            "text/plain": [
              "<Figure size 432x288 with 1 Axes>"
            ]
          },
          "metadata": {},
          "output_type": "display_data"
        }
      ],
      "source": [
        "plt.plot(history.history['loss'], label='Train')\n",
        "plt.plot(history.history['val_loss'], label='Test')\n",
        "plt.axvline(x = 65, color=\"k\", ymin=0, ymax = 0.3, label = \"Appx-Stopping point\")\n",
        "plt.xlabel('Epoch')\n",
        "plt.ylabel('Error')\n",
        "plt.legend()\n",
        "plt.grid(True)"
      ]
    },
    {
      "cell_type": "code",
      "execution_count": null,
      "metadata": {
        "colab": {
          "background_save": true
        },
        "id": "1Q7CmdAiJ2SO"
      },
      "outputs": [],
      "source": [
        "from tensorflow.keras.callbacks import EarlyStopping"
      ]
    },
    {
      "cell_type": "code",
      "execution_count": null,
      "metadata": {
        "id": "VXk_Zvx0K1Qy"
      },
      "outputs": [],
      "source": [
        "model4 = Sequential()\n",
        "model4.add(Conv1D(64,3, input_shape=(12,1), activation='relu'))\n",
        "model4.add(Dense(100, activation =\"relu\"))\n",
        "model4.add(Flatten())\n",
        "model4.add(Dense(1, activation='softmax'))\n",
        "\n",
        "model4.compile(loss='binary_crossentropy',\n",
        "              optimizer='adam',\n",
        "              metrics=['accuracy'])\n",
        "callback=EarlyStopping(monitor=\"val_loss\")\n",
        "history4 = model4.fit(X_train, y_train,\n",
        "                    validation_data=(X_val, y_val),\n",
        "                    epochs=20, verbose=0)\n",
        "loss4, accuracy4= model4.evaluate(X_test, y_test)\n",
        "print(\"Loss: \", round(loss4,2), \"Accuracy: \",\"%.2f\"%accuracy4)\n",
        "plot_loss(history4)"
      ]
    },
    {
      "cell_type": "code",
      "execution_count": null,
      "metadata": {
        "id": "Wxo3io2mLWtg"
      },
      "outputs": [],
      "source": [
        "model5 = Sequential()\n",
        "model5.add(Conv1D(64,3, input_shape=(12,1), activation='relu'))\n",
        "model5.add(Dense(100, activation =\"relu\"))\n",
        "model5.add(Flatten())\n",
        "model5.add(Dense(1, activation='softmax'))\n",
        "\n",
        "model5.compile(loss='binary_crossentropy',\n",
        "              optimizer='adam',\n",
        "              metrics=['accuracy'])\n",
        "callback=EarlyStopping(monitor=\"val_loss\")\n",
        "history5 = model5.fit(X_train, y_train,\n",
        "                    validation_data=(X_val, y_val),\n",
        "                    epochs=10, verbose=0)\n",
        "loss5, accuracy5= model5.evaluate(X_test, y_test)\n",
        "print(\"Loss: \", round(loss5,2), \"Accuracy: \",\"%.2f\"%accuracy5)\n",
        "plot_loss(history5)"
      ]
    },
    {
      "cell_type": "markdown",
      "metadata": {
        "id": "v4frk4APTJGK"
      },
      "source": [
        "* In the early stopping method as well, the train and test errors are almost equal resulting in a balanced model. When the epochs was decreased to 10, the train error and the test error coincided."
      ]
    },
    {
      "cell_type": "markdown",
      "metadata": {
        "id": "IsWRi0PR5R_3"
      },
      "source": [
        "# Batch Normalization"
      ]
    },
    {
      "cell_type": "code",
      "execution_count": null,
      "metadata": {
        "id": "575w2t4NLq5T"
      },
      "outputs": [],
      "source": [
        "from tensorflow.keras.layers import  BatchNormalization\n",
        "\n",
        "\n",
        "model6 = Sequential()\n",
        "model6.add(Conv1D(64,3, input_shape=(12,1), activation='relu'))\n",
        "BatchNormalization()\n",
        "model6.add(Dense(100, activation =\"relu\"))\n",
        "model6.add(Flatten())\n",
        "model6.add(Dense(1, activation='softmax'))\n",
        "\n",
        "model6.compile(loss='binary_crossentropy',\n",
        "              optimizer='SGD',\n",
        "              metrics=['accuracy'])\n",
        "callback=EarlyStopping(monitor=\"val_loss\")\n",
        "history6 = model6.fit(X_train, y_train,\n",
        "                    validation_data=(X_val, y_val),\n",
        "                    epochs=150, verbose=0)\n",
        "loss6, accuracy6= model6.evaluate(X_test, y_test)\n",
        "print(\"Loss: \", round(loss6,2), \"Accuracy: \",\"%.2f\"%accuracy6)\n",
        "plot_loss(history6)"
      ]
    },
    {
      "cell_type": "markdown",
      "metadata": {
        "id": "ssrVnCT96wX3"
      },
      "source": [
        "Performing Batch Normalization with SGD optimizer and 150 epochs, the train and test error are approximately equal"
      ]
    },
    {
      "cell_type": "code",
      "execution_count": null,
      "metadata": {
        "id": "d1gQuHa5458D",
        "outputId": "44364eeb-879e-44a8-ff20-ae9fb8c420c0",
        "colab": {
          "base_uri": "https://localhost:8080/",
          "height": 269
        }
      },
      "outputs": [
        {
          "output_type": "execute_result",
          "data": {
            "text/plain": [
              "   Model        Techniques  Epochs  Hidden Layers Optimizer      Loss  \\\n",
              "0      1          Original     400              1      Adam  1.030586   \n",
              "1      2                L2     400              1      Adam  0.310701   \n",
              "2      3                L1     250              1      Adam  0.266853   \n",
              "3      4           DropOut     450              1      Adam  0.257787   \n",
              "4      5  Early Stopping-1      20              1      Adam  0.330297   \n",
              "5      6  Early Stopping-2      10              1      Adam  0.351343   \n",
              "6      7  Batch Normalizer     150              1       SGD  0.346393   \n",
              "\n",
              "   Accuracy  \n",
              "0      0.46  \n",
              "1      0.46  \n",
              "2      0.46  \n",
              "3      0.46  \n",
              "4      0.46  \n",
              "5      0.46  \n",
              "6      0.46  "
            ],
            "text/html": [
              "\n",
              "  <div id=\"df-2535176e-84fc-4027-b52d-aabb0d6ca2f2\">\n",
              "    <div class=\"colab-df-container\">\n",
              "      <div>\n",
              "<style scoped>\n",
              "    .dataframe tbody tr th:only-of-type {\n",
              "        vertical-align: middle;\n",
              "    }\n",
              "\n",
              "    .dataframe tbody tr th {\n",
              "        vertical-align: top;\n",
              "    }\n",
              "\n",
              "    .dataframe thead th {\n",
              "        text-align: right;\n",
              "    }\n",
              "</style>\n",
              "<table border=\"1\" class=\"dataframe\">\n",
              "  <thead>\n",
              "    <tr style=\"text-align: right;\">\n",
              "      <th></th>\n",
              "      <th>Model</th>\n",
              "      <th>Techniques</th>\n",
              "      <th>Epochs</th>\n",
              "      <th>Hidden Layers</th>\n",
              "      <th>Optimizer</th>\n",
              "      <th>Loss</th>\n",
              "      <th>Accuracy</th>\n",
              "    </tr>\n",
              "  </thead>\n",
              "  <tbody>\n",
              "    <tr>\n",
              "      <th>0</th>\n",
              "      <td>1</td>\n",
              "      <td>Original</td>\n",
              "      <td>400</td>\n",
              "      <td>1</td>\n",
              "      <td>Adam</td>\n",
              "      <td>1.030586</td>\n",
              "      <td>0.46</td>\n",
              "    </tr>\n",
              "    <tr>\n",
              "      <th>1</th>\n",
              "      <td>2</td>\n",
              "      <td>L2</td>\n",
              "      <td>400</td>\n",
              "      <td>1</td>\n",
              "      <td>Adam</td>\n",
              "      <td>0.310701</td>\n",
              "      <td>0.46</td>\n",
              "    </tr>\n",
              "    <tr>\n",
              "      <th>2</th>\n",
              "      <td>3</td>\n",
              "      <td>L1</td>\n",
              "      <td>250</td>\n",
              "      <td>1</td>\n",
              "      <td>Adam</td>\n",
              "      <td>0.266853</td>\n",
              "      <td>0.46</td>\n",
              "    </tr>\n",
              "    <tr>\n",
              "      <th>3</th>\n",
              "      <td>4</td>\n",
              "      <td>DropOut</td>\n",
              "      <td>450</td>\n",
              "      <td>1</td>\n",
              "      <td>Adam</td>\n",
              "      <td>0.257787</td>\n",
              "      <td>0.46</td>\n",
              "    </tr>\n",
              "    <tr>\n",
              "      <th>4</th>\n",
              "      <td>5</td>\n",
              "      <td>Early Stopping-1</td>\n",
              "      <td>20</td>\n",
              "      <td>1</td>\n",
              "      <td>Adam</td>\n",
              "      <td>0.330297</td>\n",
              "      <td>0.46</td>\n",
              "    </tr>\n",
              "    <tr>\n",
              "      <th>5</th>\n",
              "      <td>6</td>\n",
              "      <td>Early Stopping-2</td>\n",
              "      <td>10</td>\n",
              "      <td>1</td>\n",
              "      <td>Adam</td>\n",
              "      <td>0.351343</td>\n",
              "      <td>0.46</td>\n",
              "    </tr>\n",
              "    <tr>\n",
              "      <th>6</th>\n",
              "      <td>7</td>\n",
              "      <td>Batch Normalizer</td>\n",
              "      <td>150</td>\n",
              "      <td>1</td>\n",
              "      <td>SGD</td>\n",
              "      <td>0.346393</td>\n",
              "      <td>0.46</td>\n",
              "    </tr>\n",
              "  </tbody>\n",
              "</table>\n",
              "</div>\n",
              "      <button class=\"colab-df-convert\" onclick=\"convertToInteractive('df-2535176e-84fc-4027-b52d-aabb0d6ca2f2')\"\n",
              "              title=\"Convert this dataframe to an interactive table.\"\n",
              "              style=\"display:none;\">\n",
              "        \n",
              "  <svg xmlns=\"http://www.w3.org/2000/svg\" height=\"24px\"viewBox=\"0 0 24 24\"\n",
              "       width=\"24px\">\n",
              "    <path d=\"M0 0h24v24H0V0z\" fill=\"none\"/>\n",
              "    <path d=\"M18.56 5.44l.94 2.06.94-2.06 2.06-.94-2.06-.94-.94-2.06-.94 2.06-2.06.94zm-11 1L8.5 8.5l.94-2.06 2.06-.94-2.06-.94L8.5 2.5l-.94 2.06-2.06.94zm10 10l.94 2.06.94-2.06 2.06-.94-2.06-.94-.94-2.06-.94 2.06-2.06.94z\"/><path d=\"M17.41 7.96l-1.37-1.37c-.4-.4-.92-.59-1.43-.59-.52 0-1.04.2-1.43.59L10.3 9.45l-7.72 7.72c-.78.78-.78 2.05 0 2.83L4 21.41c.39.39.9.59 1.41.59.51 0 1.02-.2 1.41-.59l7.78-7.78 2.81-2.81c.8-.78.8-2.07 0-2.86zM5.41 20L4 18.59l7.72-7.72 1.47 1.35L5.41 20z\"/>\n",
              "  </svg>\n",
              "      </button>\n",
              "      \n",
              "  <style>\n",
              "    .colab-df-container {\n",
              "      display:flex;\n",
              "      flex-wrap:wrap;\n",
              "      gap: 12px;\n",
              "    }\n",
              "\n",
              "    .colab-df-convert {\n",
              "      background-color: #E8F0FE;\n",
              "      border: none;\n",
              "      border-radius: 50%;\n",
              "      cursor: pointer;\n",
              "      display: none;\n",
              "      fill: #1967D2;\n",
              "      height: 32px;\n",
              "      padding: 0 0 0 0;\n",
              "      width: 32px;\n",
              "    }\n",
              "\n",
              "    .colab-df-convert:hover {\n",
              "      background-color: #E2EBFA;\n",
              "      box-shadow: 0px 1px 2px rgba(60, 64, 67, 0.3), 0px 1px 3px 1px rgba(60, 64, 67, 0.15);\n",
              "      fill: #174EA6;\n",
              "    }\n",
              "\n",
              "    [theme=dark] .colab-df-convert {\n",
              "      background-color: #3B4455;\n",
              "      fill: #D2E3FC;\n",
              "    }\n",
              "\n",
              "    [theme=dark] .colab-df-convert:hover {\n",
              "      background-color: #434B5C;\n",
              "      box-shadow: 0px 1px 3px 1px rgba(0, 0, 0, 0.15);\n",
              "      filter: drop-shadow(0px 1px 2px rgba(0, 0, 0, 0.3));\n",
              "      fill: #FFFFFF;\n",
              "    }\n",
              "  </style>\n",
              "\n",
              "      <script>\n",
              "        const buttonEl =\n",
              "          document.querySelector('#df-2535176e-84fc-4027-b52d-aabb0d6ca2f2 button.colab-df-convert');\n",
              "        buttonEl.style.display =\n",
              "          google.colab.kernel.accessAllowed ? 'block' : 'none';\n",
              "\n",
              "        async function convertToInteractive(key) {\n",
              "          const element = document.querySelector('#df-2535176e-84fc-4027-b52d-aabb0d6ca2f2');\n",
              "          const dataTable =\n",
              "            await google.colab.kernel.invokeFunction('convertToInteractive',\n",
              "                                                     [key], {});\n",
              "          if (!dataTable) return;\n",
              "\n",
              "          const docLinkHtml = 'Like what you see? Visit the ' +\n",
              "            '<a target=\"_blank\" href=https://colab.research.google.com/notebooks/data_table.ipynb>data table notebook</a>'\n",
              "            + ' to learn more about interactive tables.';\n",
              "          element.innerHTML = '';\n",
              "          dataTable['output_type'] = 'display_data';\n",
              "          await google.colab.output.renderOutput(dataTable, element);\n",
              "          const docLink = document.createElement('div');\n",
              "          docLink.innerHTML = docLinkHtml;\n",
              "          element.appendChild(docLink);\n",
              "        }\n",
              "      </script>\n",
              "    </div>\n",
              "  </div>\n",
              "  "
            ]
          },
          "metadata": {},
          "execution_count": 23
        }
      ],
      "source": [
        "import pandas as pd\n",
        "Model= [1,2,3,4,5,6,7]\n",
        "Epochs = [history.epoch[-1]+1, history1.epoch[-1]+1, history2.epoch[-1]+1, history3.epoch[-1]+1, history4.epoch[-1]+1, history5.epoch[-1]+1, history6.epoch[-1]+1]\n",
        "loss = [lossO, loss1, loss2, loss3,loss4, loss5, loss6]\n",
        "hidden_layers=[1,1,1,1,1,1,1]\n",
        "optimizer= [\"Adam\", \"Adam\", \"Adam\", \"Adam\", \"Adam\", \"Adam\", \"SGD\"]\n",
        "accuracy=[accuracyO, accuracy1, accuracy2, accuracy3, accuracy4, accuracy5, accuracy6]\n",
        "Regularizer =[\"Original\", \"L2\", \"L1\", \"DropOut\", \"Early Stopping-1\",\"Early Stopping-2\", \"Batch Normalizer\" ]\n",
        "data = {\"Model\": Model, \"Techniques\": Regularizer, \"Epochs\": Epochs, \"Hidden Layers\": hidden_layers, \"Optimizer\": optimizer,\"Loss\":loss,  \"Accuracy\":accuracy}\n",
        "pd.DataFrame(data)"
      ]
    },
    {
      "cell_type": "markdown",
      "metadata": {
        "id": "4F30MGu6Eavh"
      },
      "source": [
        "Conclusion:\n",
        "* When we trained the model on the original data, the test error was highly greater than train error and resulted in an overfit model. To overcome this, we applied three techniques namely  - L1,L2 regularizer, DropOut, and Early Stopping Method. Each of these models were trained on one hidden layer and Adam Optimizer for  different epochs. After applying these techniques the test error reduced drastically and in some cases, the test error and the train error coincided resulting a balanced model.\n",
        "* We also used the Batch Normalization for efficient updation of weights and the right use of Activation Function to avaoid vanishing and exploding gradient descent problem. The model was trained on SGD optimizer was 150 epochs consisting of one hidden layer and achieved an accuracy of 46%\n",
        "\n"
      ]
    },
    {
      "cell_type": "code",
      "execution_count": null,
      "metadata": {
        "id": "8B_YPTWUCjph"
      },
      "outputs": [],
      "source": []
    }
  ],
  "metadata": {
    "colab": {
      "provenance": []
    },
    "kernelspec": {
      "display_name": "Python 3",
      "name": "python3"
    },
    "language_info": {
      "name": "python"
    }
  },
  "nbformat": 4,
  "nbformat_minor": 0
}