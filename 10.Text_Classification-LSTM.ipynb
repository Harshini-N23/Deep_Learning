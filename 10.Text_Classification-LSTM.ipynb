{
  "nbformat": 4,
  "nbformat_minor": 0,
  "metadata": {
    "colab": {
      "provenance": []
    },
    "kernelspec": {
      "name": "python3",
      "display_name": "Python 3"
    },
    "language_info": {
      "name": "python"
    }
  },
  "cells": [
    {
      "cell_type": "markdown",
      "source": [
        "# News Classification using LSTM\n",
        "\n",
        "### Dataset : https://www.kaggle.com/datasets/sulphatet/twitter-financial-news\n",
        "\n",
        "### Labels Chosen:\n",
        "* Product News(0) and Stock Commentary(1)\n"
      ],
      "metadata": {
        "id": "O3TuDu5vHZ7X"
      }
    },
    {
      "cell_type": "markdown",
      "source": [
        "## Importing the libraries"
      ],
      "metadata": {
        "id": "8CGvMsP5uJ0G"
      }
    },
    {
      "cell_type": "code",
      "execution_count": null,
      "metadata": {
        "id": "4FLIDPK3HTON"
      },
      "outputs": [],
      "source": [
        "import pandas as pd\n",
        "import tensorflow as tf\n",
        "import nltk\n",
        "import re\n",
        "import numpy as np"
      ]
    },
    {
      "cell_type": "code",
      "source": [
        "nltk.download(\"stopwords\")\n",
        "nltk.download('punkt')"
      ],
      "metadata": {
        "colab": {
          "base_uri": "https://localhost:8080/"
        },
        "id": "mz41TmncJ9XU",
        "outputId": "4db7ead6-068a-4574-b2b0-140e09bc0ebe"
      },
      "execution_count": null,
      "outputs": [
        {
          "output_type": "stream",
          "name": "stderr",
          "text": [
            "[nltk_data] Downloading package stopwords to /root/nltk_data...\n",
            "[nltk_data]   Package stopwords is already up-to-date!\n",
            "[nltk_data] Downloading package punkt to /root/nltk_data...\n",
            "[nltk_data]   Package punkt is already up-to-date!\n"
          ]
        },
        {
          "output_type": "execute_result",
          "data": {
            "text/plain": [
              "True"
            ]
          },
          "metadata": {},
          "execution_count": 2
        }
      ]
    },
    {
      "cell_type": "code",
      "source": [
        "from sklearn.model_selection import train_test_split\n",
        "from sklearn.metrics import confusion_matrix, classification_report, accuracy_score"
      ],
      "metadata": {
        "id": "MnG47zunM4r7"
      },
      "execution_count": null,
      "outputs": []
    },
    {
      "cell_type": "code",
      "source": [
        "from nltk.corpus import stopwords\n",
        "from nltk.stem.porter import PorterStemmer"
      ],
      "metadata": {
        "id": "EoFt3JmsJ38J"
      },
      "execution_count": null,
      "outputs": []
    },
    {
      "cell_type": "code",
      "source": [
        "from tensorflow.keras.layers import Embedding\n",
        "from tensorflow.keras.preprocessing.sequence import pad_sequences\n",
        "from tensorflow.keras.models import Sequential\n",
        "from tensorflow.keras.preprocessing.text import one_hot\n",
        "from tensorflow.keras.layers import LSTM, Dense, Dropout"
      ],
      "metadata": {
        "id": "8QvzaaZeJDHg"
      },
      "execution_count": null,
      "outputs": []
    },
    {
      "cell_type": "markdown",
      "source": [
        "## Loading the data"
      ],
      "metadata": {
        "id": "5B2p_xUiuNWe"
      }
    },
    {
      "cell_type": "code",
      "source": [
        "data =pd.read_csv(\"/content/drive/MyDrive/Colab Notebooks/DEEP LEARNING/classification_train_data.csv\")\n",
        "data.head()"
      ],
      "metadata": {
        "colab": {
          "base_uri": "https://localhost:8080/",
          "height": 206
        },
        "id": "5s9FlDYgH5xI",
        "outputId": "b8b5a74d-a678-4f6f-ac58-461e29a29328"
      },
      "execution_count": null,
      "outputs": [
        {
          "output_type": "execute_result",
          "data": {
            "text/plain": [
              "                                                text  label\n",
              "0  $HOUR flagging here below the squeeze level to...      1\n",
              "1  $SPY closed just above 2 mo channel &amp; 10d ...      1\n",
              "2                             $VLCN going green.....      1\n",
              "3  $QQQ - QQQ: It's Make It Or Break It For The S...      1\n",
              "4  Nike college apparel will have 'faster speed t...      0"
            ],
            "text/html": [
              "\n",
              "  <div id=\"df-55254731-29fb-4719-9a93-09868090f532\">\n",
              "    <div class=\"colab-df-container\">\n",
              "      <div>\n",
              "<style scoped>\n",
              "    .dataframe tbody tr th:only-of-type {\n",
              "        vertical-align: middle;\n",
              "    }\n",
              "\n",
              "    .dataframe tbody tr th {\n",
              "        vertical-align: top;\n",
              "    }\n",
              "\n",
              "    .dataframe thead th {\n",
              "        text-align: right;\n",
              "    }\n",
              "</style>\n",
              "<table border=\"1\" class=\"dataframe\">\n",
              "  <thead>\n",
              "    <tr style=\"text-align: right;\">\n",
              "      <th></th>\n",
              "      <th>text</th>\n",
              "      <th>label</th>\n",
              "    </tr>\n",
              "  </thead>\n",
              "  <tbody>\n",
              "    <tr>\n",
              "      <th>0</th>\n",
              "      <td>$HOUR flagging here below the squeeze level to...</td>\n",
              "      <td>1</td>\n",
              "    </tr>\n",
              "    <tr>\n",
              "      <th>1</th>\n",
              "      <td>$SPY closed just above 2 mo channel &amp;amp; 10d ...</td>\n",
              "      <td>1</td>\n",
              "    </tr>\n",
              "    <tr>\n",
              "      <th>2</th>\n",
              "      <td>$VLCN going green.....</td>\n",
              "      <td>1</td>\n",
              "    </tr>\n",
              "    <tr>\n",
              "      <th>3</th>\n",
              "      <td>$QQQ - QQQ: It's Make It Or Break It For The S...</td>\n",
              "      <td>1</td>\n",
              "    </tr>\n",
              "    <tr>\n",
              "      <th>4</th>\n",
              "      <td>Nike college apparel will have 'faster speed t...</td>\n",
              "      <td>0</td>\n",
              "    </tr>\n",
              "  </tbody>\n",
              "</table>\n",
              "</div>\n",
              "      <button class=\"colab-df-convert\" onclick=\"convertToInteractive('df-55254731-29fb-4719-9a93-09868090f532')\"\n",
              "              title=\"Convert this dataframe to an interactive table.\"\n",
              "              style=\"display:none;\">\n",
              "        \n",
              "  <svg xmlns=\"http://www.w3.org/2000/svg\" height=\"24px\"viewBox=\"0 0 24 24\"\n",
              "       width=\"24px\">\n",
              "    <path d=\"M0 0h24v24H0V0z\" fill=\"none\"/>\n",
              "    <path d=\"M18.56 5.44l.94 2.06.94-2.06 2.06-.94-2.06-.94-.94-2.06-.94 2.06-2.06.94zm-11 1L8.5 8.5l.94-2.06 2.06-.94-2.06-.94L8.5 2.5l-.94 2.06-2.06.94zm10 10l.94 2.06.94-2.06 2.06-.94-2.06-.94-.94-2.06-.94 2.06-2.06.94z\"/><path d=\"M17.41 7.96l-1.37-1.37c-.4-.4-.92-.59-1.43-.59-.52 0-1.04.2-1.43.59L10.3 9.45l-7.72 7.72c-.78.78-.78 2.05 0 2.83L4 21.41c.39.39.9.59 1.41.59.51 0 1.02-.2 1.41-.59l7.78-7.78 2.81-2.81c.8-.78.8-2.07 0-2.86zM5.41 20L4 18.59l7.72-7.72 1.47 1.35L5.41 20z\"/>\n",
              "  </svg>\n",
              "      </button>\n",
              "      \n",
              "  <style>\n",
              "    .colab-df-container {\n",
              "      display:flex;\n",
              "      flex-wrap:wrap;\n",
              "      gap: 12px;\n",
              "    }\n",
              "\n",
              "    .colab-df-convert {\n",
              "      background-color: #E8F0FE;\n",
              "      border: none;\n",
              "      border-radius: 50%;\n",
              "      cursor: pointer;\n",
              "      display: none;\n",
              "      fill: #1967D2;\n",
              "      height: 32px;\n",
              "      padding: 0 0 0 0;\n",
              "      width: 32px;\n",
              "    }\n",
              "\n",
              "    .colab-df-convert:hover {\n",
              "      background-color: #E2EBFA;\n",
              "      box-shadow: 0px 1px 2px rgba(60, 64, 67, 0.3), 0px 1px 3px 1px rgba(60, 64, 67, 0.15);\n",
              "      fill: #174EA6;\n",
              "    }\n",
              "\n",
              "    [theme=dark] .colab-df-convert {\n",
              "      background-color: #3B4455;\n",
              "      fill: #D2E3FC;\n",
              "    }\n",
              "\n",
              "    [theme=dark] .colab-df-convert:hover {\n",
              "      background-color: #434B5C;\n",
              "      box-shadow: 0px 1px 3px 1px rgba(0, 0, 0, 0.15);\n",
              "      filter: drop-shadow(0px 1px 2px rgba(0, 0, 0, 0.3));\n",
              "      fill: #FFFFFF;\n",
              "    }\n",
              "  </style>\n",
              "\n",
              "      <script>\n",
              "        const buttonEl =\n",
              "          document.querySelector('#df-55254731-29fb-4719-9a93-09868090f532 button.colab-df-convert');\n",
              "        buttonEl.style.display =\n",
              "          google.colab.kernel.accessAllowed ? 'block' : 'none';\n",
              "\n",
              "        async function convertToInteractive(key) {\n",
              "          const element = document.querySelector('#df-55254731-29fb-4719-9a93-09868090f532');\n",
              "          const dataTable =\n",
              "            await google.colab.kernel.invokeFunction('convertToInteractive',\n",
              "                                                     [key], {});\n",
              "          if (!dataTable) return;\n",
              "\n",
              "          const docLinkHtml = 'Like what you see? Visit the ' +\n",
              "            '<a target=\"_blank\" href=https://colab.research.google.com/notebooks/data_table.ipynb>data table notebook</a>'\n",
              "            + ' to learn more about interactive tables.';\n",
              "          element.innerHTML = '';\n",
              "          dataTable['output_type'] = 'display_data';\n",
              "          await google.colab.output.renderOutput(dataTable, element);\n",
              "          const docLink = document.createElement('div');\n",
              "          docLink.innerHTML = docLinkHtml;\n",
              "          element.appendChild(docLink);\n",
              "        }\n",
              "      </script>\n",
              "    </div>\n",
              "  </div>\n",
              "  "
            ]
          },
          "metadata": {},
          "execution_count": 6
        }
      ]
    },
    {
      "cell_type": "code",
      "source": [
        "data.info()"
      ],
      "metadata": {
        "colab": {
          "base_uri": "https://localhost:8080/"
        },
        "id": "1SxFT8FeIqe4",
        "outputId": "701e253f-b215-4138-da6d-ca71597fa4ef"
      },
      "execution_count": null,
      "outputs": [
        {
          "output_type": "stream",
          "name": "stdout",
          "text": [
            "<class 'pandas.core.frame.DataFrame'>\n",
            "RangeIndex: 5663 entries, 0 to 5662\n",
            "Data columns (total 2 columns):\n",
            " #   Column  Non-Null Count  Dtype \n",
            "---  ------  --------------  ----- \n",
            " 0   text    5663 non-null   object\n",
            " 1   label   5663 non-null   int64 \n",
            "dtypes: int64(1), object(1)\n",
            "memory usage: 88.6+ KB\n"
          ]
        }
      ]
    },
    {
      "cell_type": "code",
      "source": [
        "data.isnull().sum()"
      ],
      "metadata": {
        "colab": {
          "base_uri": "https://localhost:8080/"
        },
        "id": "2rgMheQQIndW",
        "outputId": "75d5763f-4f7e-4bde-a247-56c3053d5fb0"
      },
      "execution_count": null,
      "outputs": [
        {
          "output_type": "execute_result",
          "data": {
            "text/plain": [
              "text     0\n",
              "label    0\n",
              "dtype: int64"
            ]
          },
          "metadata": {},
          "execution_count": 8
        }
      ]
    },
    {
      "cell_type": "markdown",
      "source": [
        "## Defining the X and Y features"
      ],
      "metadata": {
        "id": "V_Pk9FlPuPlJ"
      }
    },
    {
      "cell_type": "code",
      "source": [
        "X = data.drop(\"label\", axis =1)\n",
        "y = data[\"label\"]"
      ],
      "metadata": {
        "id": "LboMWqy1Iux_"
      },
      "execution_count": null,
      "outputs": []
    },
    {
      "cell_type": "code",
      "source": [
        "X.shape, y.shape"
      ],
      "metadata": {
        "colab": {
          "base_uri": "https://localhost:8080/"
        },
        "id": "2zTDjHPOI3Zj",
        "outputId": "41236344-8ec0-42c3-ca97-6e775515f92c"
      },
      "execution_count": null,
      "outputs": [
        {
          "output_type": "execute_result",
          "data": {
            "text/plain": [
              "((5663, 1), (5663,))"
            ]
          },
          "metadata": {},
          "execution_count": 10
        }
      ]
    },
    {
      "cell_type": "markdown",
      "source": [
        "## Defining the vocabulary size"
      ],
      "metadata": {
        "id": "6xZ4U7fKuVQh"
      }
    },
    {
      "cell_type": "code",
      "source": [
        "vocab_size = 5000"
      ],
      "metadata": {
        "id": "pqxUrQ1SI952"
      },
      "execution_count": null,
      "outputs": []
    },
    {
      "cell_type": "code",
      "source": [
        "news = X.copy()"
      ],
      "metadata": {
        "id": "nzsm4_WPJpw-"
      },
      "execution_count": null,
      "outputs": []
    },
    {
      "cell_type": "markdown",
      "source": [
        "## Data Preprocessing"
      ],
      "metadata": {
        "id": "W-Tf2waNuYMQ"
      }
    },
    {
      "cell_type": "code",
      "source": [
        "corpus= []\n",
        "def data_preprocess(news):\n",
        "  ps = PorterStemmer()\n",
        "\n",
        "  for i in range(0, len(news)):\n",
        "    text = re.sub(\"[^a-zA-Z]\", \" \", news[\"text\"][i])\n",
        "    text = text.lower()\n",
        "    text= text.split()\n",
        "    text = [ps.stem(word) for word in text if not word in stopwords.words(\"english\")]\n",
        "    text = \" \".join(text)\n",
        "    corpus.append(text)\n",
        "data_preprocess(news)"
      ],
      "metadata": {
        "id": "-fw1_KK3JyZV"
      },
      "execution_count": null,
      "outputs": []
    },
    {
      "cell_type": "markdown",
      "source": [
        "## One-Hot Encoding"
      ],
      "metadata": {
        "id": "14Afdy14ualc"
      }
    },
    {
      "cell_type": "code",
      "source": [
        "one_hot_rep =[]\n",
        "def One_Hot(corpus):\n",
        "  for words in corpus:\n",
        "    onehot = one_hot(words, vocab_size)\n",
        "    one_hot_rep.append(onehot)\n",
        "  # one_hot_rep = [one_hot(words, vocab_size) for words in corpus]\n",
        "One_Hot(corpus)"
      ],
      "metadata": {
        "id": "Rew-ojT-K4vz"
      },
      "execution_count": null,
      "outputs": []
    },
    {
      "cell_type": "code",
      "source": [
        "maxlen=-1\n",
        "for doc in corpus:\n",
        "    tokens=nltk.word_tokenize(doc)\n",
        "    if(maxlen<len(tokens)):\n",
        "        maxlen=len(tokens)\n",
        "print(\"The maximum number of words in any document is : \",maxlen)"
      ],
      "metadata": {
        "colab": {
          "base_uri": "https://localhost:8080/"
        },
        "id": "0BaXwmLsGk2Y",
        "outputId": "69059a6c-ae90-4e68-e908-693154f2ca26"
      },
      "execution_count": null,
      "outputs": [
        {
          "output_type": "stream",
          "name": "stdout",
          "text": [
            "The maximum number of words in any document is :  50\n"
          ]
        }
      ]
    },
    {
      "cell_type": "markdown",
      "source": [
        "## Generating the padded sequences"
      ],
      "metadata": {
        "id": "1IlVQn46udVR"
      }
    },
    {
      "cell_type": "code",
      "source": [
        "# The one hot encoded sequences are of unequal length so we do padding.\n",
        "sent_length = 20\n",
        "embedded_docs = pad_sequences(one_hot_rep, padding=\"pre\", maxlen =sent_length)\n",
        "embedded_docs[0]"
      ],
      "metadata": {
        "colab": {
          "base_uri": "https://localhost:8080/"
        },
        "id": "XwBqxdhQK_k-",
        "outputId": "14f3faeb-10f6-40d5-b6e5-52fb62096240"
      },
      "execution_count": null,
      "outputs": [
        {
          "output_type": "execute_result",
          "data": {
            "text/plain": [
              "array([   0,    0,    0,    0,    0, 1529, 1543,  675, 2543, 1329,  979,\n",
              "        381, 1541, 4302,  776,  582, 3450, 2688,  675, 3422], dtype=int32)"
            ]
          },
          "metadata": {},
          "execution_count": 16
        }
      ]
    },
    {
      "cell_type": "markdown",
      "source": [
        "## Model Building"
      ],
      "metadata": {
        "id": "SZQplIbOug8m"
      }
    },
    {
      "cell_type": "code",
      "source": [
        "embedding_vector_features = 40\n",
        "model =Sequential()\n",
        "model.add(Embedding(vocab_size,embedding_vector_features, input_length =sent_length ))\n",
        "model.add(LSTM(100))\n",
        "model.add(Dense(1, activation=\"sigmoid\"))\n",
        "model.compile(loss = \"binary_crossentropy\", optimizer = \"adam\", metrics = [\"accuracy\"])\n",
        "model.summary()"
      ],
      "metadata": {
        "colab": {
          "base_uri": "https://localhost:8080/"
        },
        "id": "K_DxHSbKL0hs",
        "outputId": "afa035b2-25fe-420c-ae72-1d1e5b5ceae8"
      },
      "execution_count": null,
      "outputs": [
        {
          "output_type": "stream",
          "name": "stdout",
          "text": [
            "Model: \"sequential_1\"\n",
            "_________________________________________________________________\n",
            " Layer (type)                Output Shape              Param #   \n",
            "=================================================================\n",
            " embedding_1 (Embedding)     (None, 20, 40)            200000    \n",
            "                                                                 \n",
            " lstm_1 (LSTM)               (None, 100)               56400     \n",
            "                                                                 \n",
            " dense_1 (Dense)             (None, 1)                 101       \n",
            "                                                                 \n",
            "=================================================================\n",
            "Total params: 256,501\n",
            "Trainable params: 256,501\n",
            "Non-trainable params: 0\n",
            "_________________________________________________________________\n"
          ]
        }
      ]
    },
    {
      "cell_type": "code",
      "source": [
        "# Converting the padded sequences into an array\n",
        "X_final = np.array(embedded_docs)\n",
        "y_final = np.array(y)"
      ],
      "metadata": {
        "id": "NSfzcNeBMrGV"
      },
      "execution_count": null,
      "outputs": []
    },
    {
      "cell_type": "code",
      "source": [
        "X_final.shape, y_final.shape"
      ],
      "metadata": {
        "colab": {
          "base_uri": "https://localhost:8080/"
        },
        "id": "D68wpL-iNLti",
        "outputId": "6f011648-48b6-476f-f792-fce7dd747503"
      },
      "execution_count": null,
      "outputs": [
        {
          "output_type": "execute_result",
          "data": {
            "text/plain": [
              "((5663, 20), (5663,))"
            ]
          },
          "metadata": {},
          "execution_count": 24
        }
      ]
    },
    {
      "cell_type": "code",
      "source": [
        "X_train,X_test, y_train,y_test = train_test_split(X_final, y_final, test_size=0.20, random_state=42)"
      ],
      "metadata": {
        "id": "5o-o8f53NO0B"
      },
      "execution_count": null,
      "outputs": []
    },
    {
      "cell_type": "code",
      "source": [
        "history =model.fit(X_train, y_train, validation_data = (X_test, y_test), epochs = 10, batch_size =50)"
      ],
      "metadata": {
        "colab": {
          "base_uri": "https://localhost:8080/"
        },
        "id": "JohkLStBNYgW",
        "outputId": "e32b07b9-4361-4b60-8c88-f410c3a5713d"
      },
      "execution_count": null,
      "outputs": [
        {
          "output_type": "stream",
          "name": "stdout",
          "text": [
            "Epoch 1/10\n",
            "91/91 [==============================] - 6s 39ms/step - loss: 0.4151 - accuracy: 0.8159 - val_loss: 0.1791 - val_accuracy: 0.9470\n",
            "Epoch 2/10\n",
            "91/91 [==============================] - 3s 32ms/step - loss: 0.1189 - accuracy: 0.9585 - val_loss: 0.1518 - val_accuracy: 0.9479\n",
            "Epoch 3/10\n",
            "91/91 [==============================] - 5s 57ms/step - loss: 0.0548 - accuracy: 0.9859 - val_loss: 0.1823 - val_accuracy: 0.9365\n",
            "Epoch 4/10\n",
            "91/91 [==============================] - 6s 71ms/step - loss: 0.0254 - accuracy: 0.9951 - val_loss: 0.2293 - val_accuracy: 0.9267\n",
            "Epoch 5/10\n",
            "91/91 [==============================] - 5s 55ms/step - loss: 0.0137 - accuracy: 0.9974 - val_loss: 0.2362 - val_accuracy: 0.9285\n",
            "Epoch 6/10\n",
            "91/91 [==============================] - 3s 32ms/step - loss: 0.0109 - accuracy: 0.9980 - val_loss: 0.3115 - val_accuracy: 0.9259\n",
            "Epoch 7/10\n",
            "91/91 [==============================] - 3s 32ms/step - loss: 0.0059 - accuracy: 0.9989 - val_loss: 0.3412 - val_accuracy: 0.9250\n",
            "Epoch 8/10\n",
            "91/91 [==============================] - 3s 31ms/step - loss: 0.0036 - accuracy: 0.9993 - val_loss: 0.4133 - val_accuracy: 0.9162\n",
            "Epoch 9/10\n",
            "91/91 [==============================] - 3s 32ms/step - loss: 0.0018 - accuracy: 0.9996 - val_loss: 0.5322 - val_accuracy: 0.9135\n",
            "Epoch 10/10\n",
            "91/91 [==============================] - 3s 31ms/step - loss: 0.0087 - accuracy: 0.9978 - val_loss: 0.4623 - val_accuracy: 0.9117\n"
          ]
        }
      ]
    },
    {
      "cell_type": "markdown",
      "source": [
        "## Model Evaluation"
      ],
      "metadata": {
        "id": "D3mVK6gXuppH"
      }
    },
    {
      "cell_type": "code",
      "source": [
        "model.evaluate(X_train, y_train)"
      ],
      "metadata": {
        "colab": {
          "base_uri": "https://localhost:8080/"
        },
        "id": "j-QSW8JaA9_l",
        "outputId": "8f361d1c-42b1-4131-f61f-32665b44f4f3"
      },
      "execution_count": null,
      "outputs": [
        {
          "output_type": "stream",
          "name": "stdout",
          "text": [
            "142/142 [==============================] - 1s 7ms/step - loss: 0.0065 - accuracy: 0.9969\n"
          ]
        },
        {
          "output_type": "execute_result",
          "data": {
            "text/plain": [
              "[0.00653222668915987, 0.996909499168396]"
            ]
          },
          "metadata": {},
          "execution_count": 27
        }
      ]
    },
    {
      "cell_type": "code",
      "source": [
        "y_pred= model.predict(X_test)"
      ],
      "metadata": {
        "colab": {
          "base_uri": "https://localhost:8080/"
        },
        "id": "3wZMSfcbNl2Y",
        "outputId": "04af446c-6313-4c10-847e-128fec42ce53"
      },
      "execution_count": null,
      "outputs": [
        {
          "output_type": "stream",
          "name": "stdout",
          "text": [
            "36/36 [==============================] - 1s 7ms/step\n"
          ]
        }
      ]
    },
    {
      "cell_type": "code",
      "source": [
        "y_pred = np.round(y_pred)\n",
        "y_pred"
      ],
      "metadata": {
        "colab": {
          "base_uri": "https://localhost:8080/"
        },
        "id": "_kaDTXa_Cya_",
        "outputId": "758e6520-c916-49f7-dce0-82526220b469"
      },
      "execution_count": null,
      "outputs": [
        {
          "output_type": "execute_result",
          "data": {
            "text/plain": [
              "array([[1.],\n",
              "       [1.],\n",
              "       [0.],\n",
              "       ...,\n",
              "       [0.],\n",
              "       [0.],\n",
              "       [0.]], dtype=float32)"
            ]
          },
          "metadata": {},
          "execution_count": 29
        }
      ]
    },
    {
      "cell_type": "code",
      "source": [
        "loss, accuracy = model.evaluate(X_test, y_test)\n",
        "print(\"Loss: \", round(loss,2), \"Accuracy: \",\"%.2f\"%accuracy)"
      ],
      "metadata": {
        "colab": {
          "base_uri": "https://localhost:8080/"
        },
        "id": "OUFP5rT4Q4sE",
        "outputId": "9d4a28ef-56d3-43bf-b80a-af4bb3acee31"
      },
      "execution_count": null,
      "outputs": [
        {
          "output_type": "stream",
          "name": "stdout",
          "text": [
            "36/36 [==============================] - 0s 7ms/step - loss: 0.4623 - accuracy: 0.9117\n",
            "Loss:  0.46 Accuracy:  0.91\n"
          ]
        }
      ]
    },
    {
      "cell_type": "code",
      "source": [
        "print(\"Actual Value: \", y_test[0])\n",
        "print(\"Predicted Value: \", y_pred[0])"
      ],
      "metadata": {
        "colab": {
          "base_uri": "https://localhost:8080/"
        },
        "id": "VoFreVuj7SQW",
        "outputId": "41fb16dd-9e04-44bb-8715-5274c8d60963"
      },
      "execution_count": null,
      "outputs": [
        {
          "output_type": "stream",
          "name": "stdout",
          "text": [
            "Actual Value:  1\n",
            "Predicted Value:  [1.]\n"
          ]
        }
      ]
    },
    {
      "cell_type": "markdown",
      "source": [
        "## Adding Dropout Layer"
      ],
      "metadata": {
        "id": "rnzS8wy9lr9Z"
      }
    },
    {
      "cell_type": "code",
      "source": [
        "model1 =Sequential()\n",
        "model1.add(Embedding(vocab_size,embedding_vector_features, input_length =sent_length ))\n",
        "model1.add(Dropout(0.3))\n",
        "model1.add(LSTM(100))\n",
        "model1.add(Dropout(0.3))\n",
        "model1.add(Dense(1, activation=\"sigmoid\"))\n",
        "model1.compile(loss = \"binary_crossentropy\", optimizer = \"adam\", metrics = [\"accuracy\"])\n",
        "model1.fit(X_train, y_train, validation_data = (X_test, y_test), epochs = 10, batch_size =50)"
      ],
      "metadata": {
        "colab": {
          "base_uri": "https://localhost:8080/"
        },
        "id": "tVAKGikSO8_O",
        "outputId": "695c13fc-90a5-4cb3-de27-69a9a390f20f"
      },
      "execution_count": null,
      "outputs": [
        {
          "output_type": "stream",
          "name": "stdout",
          "text": [
            "Epoch 1/10\n",
            "91/91 [==============================] - 6s 39ms/step - loss: 0.4238 - accuracy: 0.8011 - val_loss: 0.2115 - val_accuracy: 0.9312\n",
            "Epoch 2/10\n",
            "91/91 [==============================] - 3s 33ms/step - loss: 0.1276 - accuracy: 0.9539 - val_loss: 0.1561 - val_accuracy: 0.9435\n",
            "Epoch 3/10\n",
            "91/91 [==============================] - 3s 34ms/step - loss: 0.0645 - accuracy: 0.9797 - val_loss: 0.1635 - val_accuracy: 0.9426\n",
            "Epoch 4/10\n",
            "91/91 [==============================] - 4s 48ms/step - loss: 0.0359 - accuracy: 0.9894 - val_loss: 0.2490 - val_accuracy: 0.9391\n",
            "Epoch 5/10\n",
            "91/91 [==============================] - 3s 37ms/step - loss: 0.0228 - accuracy: 0.9940 - val_loss: 0.1936 - val_accuracy: 0.9365\n",
            "Epoch 6/10\n",
            "91/91 [==============================] - 3s 33ms/step - loss: 0.0128 - accuracy: 0.9974 - val_loss: 0.3574 - val_accuracy: 0.9162\n",
            "Epoch 7/10\n",
            "91/91 [==============================] - 3s 33ms/step - loss: 0.0123 - accuracy: 0.9978 - val_loss: 0.3218 - val_accuracy: 0.9329\n",
            "Epoch 8/10\n",
            "91/91 [==============================] - 3s 33ms/step - loss: 0.0070 - accuracy: 0.9991 - val_loss: 0.3601 - val_accuracy: 0.9214\n",
            "Epoch 9/10\n",
            "91/91 [==============================] - 3s 34ms/step - loss: 0.0100 - accuracy: 0.9978 - val_loss: 0.3283 - val_accuracy: 0.9312\n",
            "Epoch 10/10\n",
            "91/91 [==============================] - 3s 33ms/step - loss: 0.0044 - accuracy: 0.9989 - val_loss: 0.4121 - val_accuracy: 0.9214\n"
          ]
        },
        {
          "output_type": "execute_result",
          "data": {
            "text/plain": [
              "<keras.callbacks.History at 0x7f73e6f50250>"
            ]
          },
          "metadata": {},
          "execution_count": 32
        }
      ]
    },
    {
      "cell_type": "code",
      "source": [
        "loss, accuracy = model1.evaluate(X_test, y_test)\n",
        "print(\"Loss: \", round(loss,2), \"Accuracy: \",\"%.2f\"%accuracy)"
      ],
      "metadata": {
        "colab": {
          "base_uri": "https://localhost:8080/"
        },
        "id": "RSwl8hSFQPiZ",
        "outputId": "b2c1cb1d-2b6b-4a0b-8925-b30de9c7e3d6"
      },
      "execution_count": null,
      "outputs": [
        {
          "output_type": "stream",
          "name": "stdout",
          "text": [
            "36/36 [==============================] - 0s 7ms/step - loss: 0.4121 - accuracy: 0.9214\n",
            "Loss:  0.41 Accuracy:  0.92\n"
          ]
        }
      ]
    },
    {
      "cell_type": "markdown",
      "source": [
        "## Model Testing"
      ],
      "metadata": {
        "id": "ZRvghv0kutKC"
      }
    },
    {
      "cell_type": "code",
      "source": [
        "test_data=pd.read_csv(\"/content/drive/MyDrive/Colab Notebooks/DEEP LEARNING/classification_test_data.csv\")\n",
        "test_data.head()"
      ],
      "metadata": {
        "colab": {
          "base_uri": "https://localhost:8080/",
          "height": 206
        },
        "id": "SidKdyGORXqy",
        "outputId": "2a08acbc-b535-44a5-f124-7cbbb706e29f"
      },
      "execution_count": null,
      "outputs": [
        {
          "output_type": "execute_result",
          "data": {
            "text/plain": [
              "                                                text  label\n",
              "0   https://t.co/G0nmNITjcy is cutting 25% of its...      0\n",
              "1   https://t.co/XNB7m39H8H Launches Fixed-term S...      0\n",
              "2  #ALSI future monthly putting in a reversal. St...      1\n",
              "3  #ALSI major constituent weightings within Top4...      1\n",
              "4  #Consumerdiscretionary outperforms $XLY $TSLA ...      1"
            ],
            "text/html": [
              "\n",
              "  <div id=\"df-bbd2649a-aeae-431f-a451-4042c76e8954\">\n",
              "    <div class=\"colab-df-container\">\n",
              "      <div>\n",
              "<style scoped>\n",
              "    .dataframe tbody tr th:only-of-type {\n",
              "        vertical-align: middle;\n",
              "    }\n",
              "\n",
              "    .dataframe tbody tr th {\n",
              "        vertical-align: top;\n",
              "    }\n",
              "\n",
              "    .dataframe thead th {\n",
              "        text-align: right;\n",
              "    }\n",
              "</style>\n",
              "<table border=\"1\" class=\"dataframe\">\n",
              "  <thead>\n",
              "    <tr style=\"text-align: right;\">\n",
              "      <th></th>\n",
              "      <th>text</th>\n",
              "      <th>label</th>\n",
              "    </tr>\n",
              "  </thead>\n",
              "  <tbody>\n",
              "    <tr>\n",
              "      <th>0</th>\n",
              "      <td>https://t.co/G0nmNITjcy is cutting 25% of its...</td>\n",
              "      <td>0</td>\n",
              "    </tr>\n",
              "    <tr>\n",
              "      <th>1</th>\n",
              "      <td>https://t.co/XNB7m39H8H Launches Fixed-term S...</td>\n",
              "      <td>0</td>\n",
              "    </tr>\n",
              "    <tr>\n",
              "      <th>2</th>\n",
              "      <td>#ALSI future monthly putting in a reversal. St...</td>\n",
              "      <td>1</td>\n",
              "    </tr>\n",
              "    <tr>\n",
              "      <th>3</th>\n",
              "      <td>#ALSI major constituent weightings within Top4...</td>\n",
              "      <td>1</td>\n",
              "    </tr>\n",
              "    <tr>\n",
              "      <th>4</th>\n",
              "      <td>#Consumerdiscretionary outperforms $XLY $TSLA ...</td>\n",
              "      <td>1</td>\n",
              "    </tr>\n",
              "  </tbody>\n",
              "</table>\n",
              "</div>\n",
              "      <button class=\"colab-df-convert\" onclick=\"convertToInteractive('df-bbd2649a-aeae-431f-a451-4042c76e8954')\"\n",
              "              title=\"Convert this dataframe to an interactive table.\"\n",
              "              style=\"display:none;\">\n",
              "        \n",
              "  <svg xmlns=\"http://www.w3.org/2000/svg\" height=\"24px\"viewBox=\"0 0 24 24\"\n",
              "       width=\"24px\">\n",
              "    <path d=\"M0 0h24v24H0V0z\" fill=\"none\"/>\n",
              "    <path d=\"M18.56 5.44l.94 2.06.94-2.06 2.06-.94-2.06-.94-.94-2.06-.94 2.06-2.06.94zm-11 1L8.5 8.5l.94-2.06 2.06-.94-2.06-.94L8.5 2.5l-.94 2.06-2.06.94zm10 10l.94 2.06.94-2.06 2.06-.94-2.06-.94-.94-2.06-.94 2.06-2.06.94z\"/><path d=\"M17.41 7.96l-1.37-1.37c-.4-.4-.92-.59-1.43-.59-.52 0-1.04.2-1.43.59L10.3 9.45l-7.72 7.72c-.78.78-.78 2.05 0 2.83L4 21.41c.39.39.9.59 1.41.59.51 0 1.02-.2 1.41-.59l7.78-7.78 2.81-2.81c.8-.78.8-2.07 0-2.86zM5.41 20L4 18.59l7.72-7.72 1.47 1.35L5.41 20z\"/>\n",
              "  </svg>\n",
              "      </button>\n",
              "      \n",
              "  <style>\n",
              "    .colab-df-container {\n",
              "      display:flex;\n",
              "      flex-wrap:wrap;\n",
              "      gap: 12px;\n",
              "    }\n",
              "\n",
              "    .colab-df-convert {\n",
              "      background-color: #E8F0FE;\n",
              "      border: none;\n",
              "      border-radius: 50%;\n",
              "      cursor: pointer;\n",
              "      display: none;\n",
              "      fill: #1967D2;\n",
              "      height: 32px;\n",
              "      padding: 0 0 0 0;\n",
              "      width: 32px;\n",
              "    }\n",
              "\n",
              "    .colab-df-convert:hover {\n",
              "      background-color: #E2EBFA;\n",
              "      box-shadow: 0px 1px 2px rgba(60, 64, 67, 0.3), 0px 1px 3px 1px rgba(60, 64, 67, 0.15);\n",
              "      fill: #174EA6;\n",
              "    }\n",
              "\n",
              "    [theme=dark] .colab-df-convert {\n",
              "      background-color: #3B4455;\n",
              "      fill: #D2E3FC;\n",
              "    }\n",
              "\n",
              "    [theme=dark] .colab-df-convert:hover {\n",
              "      background-color: #434B5C;\n",
              "      box-shadow: 0px 1px 3px 1px rgba(0, 0, 0, 0.15);\n",
              "      filter: drop-shadow(0px 1px 2px rgba(0, 0, 0, 0.3));\n",
              "      fill: #FFFFFF;\n",
              "    }\n",
              "  </style>\n",
              "\n",
              "      <script>\n",
              "        const buttonEl =\n",
              "          document.querySelector('#df-bbd2649a-aeae-431f-a451-4042c76e8954 button.colab-df-convert');\n",
              "        buttonEl.style.display =\n",
              "          google.colab.kernel.accessAllowed ? 'block' : 'none';\n",
              "\n",
              "        async function convertToInteractive(key) {\n",
              "          const element = document.querySelector('#df-bbd2649a-aeae-431f-a451-4042c76e8954');\n",
              "          const dataTable =\n",
              "            await google.colab.kernel.invokeFunction('convertToInteractive',\n",
              "                                                     [key], {});\n",
              "          if (!dataTable) return;\n",
              "\n",
              "          const docLinkHtml = 'Like what you see? Visit the ' +\n",
              "            '<a target=\"_blank\" href=https://colab.research.google.com/notebooks/data_table.ipynb>data table notebook</a>'\n",
              "            + ' to learn more about interactive tables.';\n",
              "          element.innerHTML = '';\n",
              "          dataTable['output_type'] = 'display_data';\n",
              "          await google.colab.output.renderOutput(dataTable, element);\n",
              "          const docLink = document.createElement('div');\n",
              "          docLink.innerHTML = docLinkHtml;\n",
              "          element.appendChild(docLink);\n",
              "        }\n",
              "      </script>\n",
              "    </div>\n",
              "  </div>\n",
              "  "
            ]
          },
          "metadata": {},
          "execution_count": 34
        }
      ]
    },
    {
      "cell_type": "code",
      "source": [
        "test_data.isnull().sum()"
      ],
      "metadata": {
        "colab": {
          "base_uri": "https://localhost:8080/"
        },
        "id": "YRjMsThCu3O5",
        "outputId": "f8a605c5-544d-44f6-f2c5-bbd5f7d42348"
      },
      "execution_count": null,
      "outputs": [
        {
          "output_type": "execute_result",
          "data": {
            "text/plain": [
              "text     0\n",
              "label    0\n",
              "dtype: int64"
            ]
          },
          "metadata": {},
          "execution_count": 35
        }
      ]
    },
    {
      "cell_type": "code",
      "source": [
        "info =test_data.drop(\"label\", axis=1)\n",
        "info"
      ],
      "metadata": {
        "colab": {
          "base_uri": "https://localhost:8080/",
          "height": 423
        },
        "id": "oYCRP2KovVkd",
        "outputId": "eeda97af-4fc2-48d3-a20f-ee6e560792ec"
      },
      "execution_count": null,
      "outputs": [
        {
          "output_type": "execute_result",
          "data": {
            "text/plain": [
              "                                                   text\n",
              "0      https://t.co/G0nmNITjcy is cutting 25% of its...\n",
              "1      https://t.co/XNB7m39H8H Launches Fixed-term S...\n",
              "2     #ALSI future monthly putting in a reversal. St...\n",
              "3     #ALSI major constituent weightings within Top4...\n",
              "4     #Consumerdiscretionary outperforms $XLY $TSLA ...\n",
              "...                                                 ...\n",
              "1375  ZapBatt Partners with Toshiba to Unlock Proven...\n",
              "1376  ZEDEDA Closes $26M Series B Funding Round as D...\n",
              "1377  Zultys Receives 2022 Unified Communications Pr...\n",
              "1378  Zymeworks Announces Plan to Become a Delaware ...\n",
              "1379  Zyxel Communications Expands Portfolio of WiFi...\n",
              "\n",
              "[1380 rows x 1 columns]"
            ],
            "text/html": [
              "\n",
              "  <div id=\"df-f16fa25e-2dba-452f-bafa-9bcc686034a8\">\n",
              "    <div class=\"colab-df-container\">\n",
              "      <div>\n",
              "<style scoped>\n",
              "    .dataframe tbody tr th:only-of-type {\n",
              "        vertical-align: middle;\n",
              "    }\n",
              "\n",
              "    .dataframe tbody tr th {\n",
              "        vertical-align: top;\n",
              "    }\n",
              "\n",
              "    .dataframe thead th {\n",
              "        text-align: right;\n",
              "    }\n",
              "</style>\n",
              "<table border=\"1\" class=\"dataframe\">\n",
              "  <thead>\n",
              "    <tr style=\"text-align: right;\">\n",
              "      <th></th>\n",
              "      <th>text</th>\n",
              "    </tr>\n",
              "  </thead>\n",
              "  <tbody>\n",
              "    <tr>\n",
              "      <th>0</th>\n",
              "      <td>https://t.co/G0nmNITjcy is cutting 25% of its...</td>\n",
              "    </tr>\n",
              "    <tr>\n",
              "      <th>1</th>\n",
              "      <td>https://t.co/XNB7m39H8H Launches Fixed-term S...</td>\n",
              "    </tr>\n",
              "    <tr>\n",
              "      <th>2</th>\n",
              "      <td>#ALSI future monthly putting in a reversal. St...</td>\n",
              "    </tr>\n",
              "    <tr>\n",
              "      <th>3</th>\n",
              "      <td>#ALSI major constituent weightings within Top4...</td>\n",
              "    </tr>\n",
              "    <tr>\n",
              "      <th>4</th>\n",
              "      <td>#Consumerdiscretionary outperforms $XLY $TSLA ...</td>\n",
              "    </tr>\n",
              "    <tr>\n",
              "      <th>...</th>\n",
              "      <td>...</td>\n",
              "    </tr>\n",
              "    <tr>\n",
              "      <th>1375</th>\n",
              "      <td>ZapBatt Partners with Toshiba to Unlock Proven...</td>\n",
              "    </tr>\n",
              "    <tr>\n",
              "      <th>1376</th>\n",
              "      <td>ZEDEDA Closes $26M Series B Funding Round as D...</td>\n",
              "    </tr>\n",
              "    <tr>\n",
              "      <th>1377</th>\n",
              "      <td>Zultys Receives 2022 Unified Communications Pr...</td>\n",
              "    </tr>\n",
              "    <tr>\n",
              "      <th>1378</th>\n",
              "      <td>Zymeworks Announces Plan to Become a Delaware ...</td>\n",
              "    </tr>\n",
              "    <tr>\n",
              "      <th>1379</th>\n",
              "      <td>Zyxel Communications Expands Portfolio of WiFi...</td>\n",
              "    </tr>\n",
              "  </tbody>\n",
              "</table>\n",
              "<p>1380 rows × 1 columns</p>\n",
              "</div>\n",
              "      <button class=\"colab-df-convert\" onclick=\"convertToInteractive('df-f16fa25e-2dba-452f-bafa-9bcc686034a8')\"\n",
              "              title=\"Convert this dataframe to an interactive table.\"\n",
              "              style=\"display:none;\">\n",
              "        \n",
              "  <svg xmlns=\"http://www.w3.org/2000/svg\" height=\"24px\"viewBox=\"0 0 24 24\"\n",
              "       width=\"24px\">\n",
              "    <path d=\"M0 0h24v24H0V0z\" fill=\"none\"/>\n",
              "    <path d=\"M18.56 5.44l.94 2.06.94-2.06 2.06-.94-2.06-.94-.94-2.06-.94 2.06-2.06.94zm-11 1L8.5 8.5l.94-2.06 2.06-.94-2.06-.94L8.5 2.5l-.94 2.06-2.06.94zm10 10l.94 2.06.94-2.06 2.06-.94-2.06-.94-.94-2.06-.94 2.06-2.06.94z\"/><path d=\"M17.41 7.96l-1.37-1.37c-.4-.4-.92-.59-1.43-.59-.52 0-1.04.2-1.43.59L10.3 9.45l-7.72 7.72c-.78.78-.78 2.05 0 2.83L4 21.41c.39.39.9.59 1.41.59.51 0 1.02-.2 1.41-.59l7.78-7.78 2.81-2.81c.8-.78.8-2.07 0-2.86zM5.41 20L4 18.59l7.72-7.72 1.47 1.35L5.41 20z\"/>\n",
              "  </svg>\n",
              "      </button>\n",
              "      \n",
              "  <style>\n",
              "    .colab-df-container {\n",
              "      display:flex;\n",
              "      flex-wrap:wrap;\n",
              "      gap: 12px;\n",
              "    }\n",
              "\n",
              "    .colab-df-convert {\n",
              "      background-color: #E8F0FE;\n",
              "      border: none;\n",
              "      border-radius: 50%;\n",
              "      cursor: pointer;\n",
              "      display: none;\n",
              "      fill: #1967D2;\n",
              "      height: 32px;\n",
              "      padding: 0 0 0 0;\n",
              "      width: 32px;\n",
              "    }\n",
              "\n",
              "    .colab-df-convert:hover {\n",
              "      background-color: #E2EBFA;\n",
              "      box-shadow: 0px 1px 2px rgba(60, 64, 67, 0.3), 0px 1px 3px 1px rgba(60, 64, 67, 0.15);\n",
              "      fill: #174EA6;\n",
              "    }\n",
              "\n",
              "    [theme=dark] .colab-df-convert {\n",
              "      background-color: #3B4455;\n",
              "      fill: #D2E3FC;\n",
              "    }\n",
              "\n",
              "    [theme=dark] .colab-df-convert:hover {\n",
              "      background-color: #434B5C;\n",
              "      box-shadow: 0px 1px 3px 1px rgba(0, 0, 0, 0.15);\n",
              "      filter: drop-shadow(0px 1px 2px rgba(0, 0, 0, 0.3));\n",
              "      fill: #FFFFFF;\n",
              "    }\n",
              "  </style>\n",
              "\n",
              "      <script>\n",
              "        const buttonEl =\n",
              "          document.querySelector('#df-f16fa25e-2dba-452f-bafa-9bcc686034a8 button.colab-df-convert');\n",
              "        buttonEl.style.display =\n",
              "          google.colab.kernel.accessAllowed ? 'block' : 'none';\n",
              "\n",
              "        async function convertToInteractive(key) {\n",
              "          const element = document.querySelector('#df-f16fa25e-2dba-452f-bafa-9bcc686034a8');\n",
              "          const dataTable =\n",
              "            await google.colab.kernel.invokeFunction('convertToInteractive',\n",
              "                                                     [key], {});\n",
              "          if (!dataTable) return;\n",
              "\n",
              "          const docLinkHtml = 'Like what you see? Visit the ' +\n",
              "            '<a target=\"_blank\" href=https://colab.research.google.com/notebooks/data_table.ipynb>data table notebook</a>'\n",
              "            + ' to learn more about interactive tables.';\n",
              "          element.innerHTML = '';\n",
              "          dataTable['output_type'] = 'display_data';\n",
              "          await google.colab.output.renderOutput(dataTable, element);\n",
              "          const docLink = document.createElement('div');\n",
              "          docLink.innerHTML = docLinkHtml;\n",
              "          element.appendChild(docLink);\n",
              "        }\n",
              "      </script>\n",
              "    </div>\n",
              "  </div>\n",
              "  "
            ]
          },
          "metadata": {},
          "execution_count": 36
        }
      ]
    },
    {
      "cell_type": "code",
      "source": [
        "corpus1= []\n",
        "def data_preprocess(news):\n",
        "  ps = PorterStemmer()\n",
        "\n",
        "  for i in range(0, len(news)):\n",
        "    text = re.sub(\"[^a-zA-Z]\", \" \", news[\"text\"][i])\n",
        "    text = text.lower()\n",
        "    text= text.split()\n",
        "    text = [ps.stem(word) for word in text if not word in stopwords.words(\"english\")]\n",
        "    text = \" \".join(text)\n",
        "    corpus1.append(text)\n",
        "data_preprocess(info)"
      ],
      "metadata": {
        "id": "OETRDjvru6Fo"
      },
      "execution_count": null,
      "outputs": []
    },
    {
      "cell_type": "code",
      "source": [
        "one_hot_repr = [one_hot(words, vocab_size) for words in corpus1]\n",
        "embedded_docu = pad_sequences(one_hot_repr, padding=\"pre\", maxlen =sent_length)\n",
        "embedded_docu[0]"
      ],
      "metadata": {
        "colab": {
          "base_uri": "https://localhost:8080/"
        },
        "id": "4d-81_9OvPUG",
        "outputId": "d3280965-f616-4791-9738-6156a32abb3b"
      },
      "execution_count": null,
      "outputs": [
        {
          "output_type": "execute_result",
          "data": {
            "text/plain": [
              "array([   0,    0,    0,    0,    0,    0,    0,    0,    0,    0, 4199,\n",
              "       1642, 4242, 3290,  515, 3707, 2808, 4429, 3417, 1863], dtype=int32)"
            ]
          },
          "metadata": {},
          "execution_count": 38
        }
      ]
    },
    {
      "cell_type": "code",
      "source": [
        "prediction = model.predict(embedded_docu)\n",
        "prediction = np.round(prediction)\n",
        "print(prediction)"
      ],
      "metadata": {
        "colab": {
          "base_uri": "https://localhost:8080/"
        },
        "id": "Wq2X1ZAIyySo",
        "outputId": "deb5def5-7e6b-401c-8afd-716779773124"
      },
      "execution_count": null,
      "outputs": [
        {
          "output_type": "stream",
          "name": "stdout",
          "text": [
            "44/44 [==============================] - 0s 7ms/step\n",
            "[[1.]\n",
            " [0.]\n",
            " [1.]\n",
            " ...\n",
            " [0.]\n",
            " [0.]\n",
            " [0.]]\n"
          ]
        }
      ]
    },
    {
      "cell_type": "code",
      "source": [
        "print(\"Actual Value: \", y_test[0])\n",
        "print(\"Predicted Value: \", prediction[0])\n"
      ],
      "metadata": {
        "colab": {
          "base_uri": "https://localhost:8080/"
        },
        "id": "8rKGtSqMDXZD",
        "outputId": "c033cef6-04b4-4d9f-fc5c-cf3870921c82"
      },
      "execution_count": null,
      "outputs": [
        {
          "output_type": "stream",
          "name": "stdout",
          "text": [
            "Actual Value:  1\n",
            "Predicted Value:  [1.]\n"
          ]
        }
      ]
    },
    {
      "cell_type": "code",
      "source": [
        "loss, accuracy = model.evaluate(embedded_docu)\n",
        "print(\"Loss: \", round(loss,2), \"Accuracy: \",\"%.2f\"%accuracy)"
      ],
      "metadata": {
        "colab": {
          "base_uri": "https://localhost:8080/"
        },
        "id": "Qp64U_AKzFzy",
        "outputId": "d62b6583-2b1f-4b3c-9da5-22af7c5d8c3c"
      },
      "execution_count": null,
      "outputs": [
        {
          "output_type": "stream",
          "name": "stdout",
          "text": [
            "44/44 [==============================] - 1s 2ms/step - loss: 0.0000e+00 - accuracy: 0.0000e+00\n",
            "Loss:  0.0 Accuracy:  0.00\n"
          ]
        }
      ]
    },
    {
      "cell_type": "markdown",
      "source": [
        "# Conclusion:\n",
        "* The results obtained for both RNN and LSTM is the same.\n",
        "*  We have used the News Classification dataset for our LSTM model. We have preprocessed the data and one hot encoded the values.As the sequence of input to our model should be of equal length we pad them. We have set the input dimensions as 5000 and the length of the input sequence is 20. We will be embedding the 5000 word vocabulary into 40 dimension (embedding_feature_vector). The model consists of 1 embedding, 1 RNN layer and an output layer. The accuracy of this model is 99%. We obtained the same results even after adding the batch normalization layer.\n",
        "\n",
        "* The model is tested with a new dataset and though the model was able to predict  both the  classes, it's prediction is completely wrong.\n"
      ],
      "metadata": {
        "id": "SSmehoOu_n_7"
      }
    }
  ]
}